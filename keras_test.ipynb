{
 "cells": [
  {
   "cell_type": "code",
   "execution_count": 19,
   "metadata": {},
   "outputs": [],
   "source": [
    "import tensorflow as tf\n",
    "import pandas as pd\n",
    "import numpy as np\n",
    "import cv2\n",
    "from tensorflow.keras.layers import Dense, Input, Conv2D, Flatten, MaxPool2D, Dropout, BatchNormalization\n",
    "from tensorflow.keras import Model\n",
    "from tensorflow.keras.utils import plot_model, to_categorical\n",
    "from tensorflow.keras.optimizers import Adam"
   ]
  },
  {
   "cell_type": "code",
   "execution_count": 20,
   "metadata": {},
   "outputs": [],
   "source": [
    "inputs = Input(shape=(28,28,1), name='input_layer')\n",
    "model = Conv2D(filters=32, kernel_size=(3,3), padding='SAME', activation='relu', name='conv1')(inputs)\n",
    "model = Conv2D(filters=32, kernel_size=(3,3), padding='SAME', activation='relu', name='conv2')(model)\n",
    "model = Conv2D(filters=32, kernel_size=(3,3), padding='SAME', activation='relu', name='conv3')(model)\n",
    "model = Conv2D(filters=32, kernel_size=(3,3), padding='SAME', activation='relu', name='conv4')(model)\n",
    "model = BatchNormalization(momentum=0.15, name='bn1')(model)\n",
    "model = Conv2D(filters=32, kernel_size=(5,5), padding='SAME', activation='relu', name='conv5')(model)\n",
    "model = Dropout(rate=0.3, name='dp1')(model)\n",
    "\n",
    "model = Flatten(name='flatten1')(model)\n",
    "model = Dense(1024, activation='relu', name='fc1')(model)\n",
    "model = Dropout(rate=0.3,name='dp2')(model)\n",
    "model = Dense(512, activation='relu', name='fc2')(model)\n",
    "\n",
    "outputs = Dense(3,activation='softmax',name='output1')(model)\n",
    "\n",
    "model = Model(inputs=inputs, outputs=outputs, name='sample_model')\n",
    "optimizer = Adam(learning_rate=0.001)"
   ]
  },
  {
   "cell_type": "code",
   "execution_count": 21,
   "metadata": {},
   "outputs": [],
   "source": [
    "# model.summary()\n",
    "# plot_model(model=model,to_file='sample_model.png')\n",
    "model.compile(optimizer=optimizer, loss='categorical_crossentropy', metrics=['accuracy'])"
   ]
  },
  {
   "cell_type": "code",
   "execution_count": 22,
   "metadata": {},
   "outputs": [],
   "source": [
    "X_train = np.random.random(size=(100,28,28,1))\n",
    "Y_train = np.random.randint(low=0,high=3,size=(100,1))\n",
    "Y_train = to_categorical(Y_train)"
   ]
  },
  {
   "cell_type": "code",
   "execution_count": 31,
   "metadata": {},
   "outputs": [],
   "source": [
    "def flow(x,y,batch_size):\n",
    "    num_loop = x.shape[0]//batch_size\n",
    "    while True:\n",
    "        for i in range(num_loop):\n",
    "            X_batch = x[i*batch_size:(i+1)*batch_size,:]\n",
    "            Y_batch = {}\n",
    "            Y_batch['output1'] = y[i*batch_size:(i+1)*batch_size,:]\n",
    "            yield (X_batch, Y_batch)"
   ]
  },
  {
   "cell_type": "code",
   "execution_count": 32,
   "metadata": {},
   "outputs": [
    {
     "name": "stdout",
     "output_type": "stream",
     "text": [
      "WARNING:tensorflow:sample_weight modes were coerced from\n",
      "  {'output1': '...'}\n",
      "    to  \n",
      "  ['...']\n",
      "Train for 10 steps\n",
      "Epoch 1/10\n",
      "10/10 [==============================] - 4s 356ms/step - loss: 1.1200 - accuracy: 0.3300\n",
      "Epoch 2/10\n",
      "10/10 [==============================] - 3s 325ms/step - loss: 1.0988 - accuracy: 0.3300\n",
      "Epoch 3/10\n",
      "10/10 [==============================] - 3s 299ms/step - loss: 1.0984 - accuracy: 0.3600\n",
      "Epoch 4/10\n",
      "10/10 [==============================] - 3s 315ms/step - loss: 1.0978 - accuracy: 0.3600\n",
      "Epoch 5/10\n",
      "10/10 [==============================] - 3s 314ms/step - loss: 1.0971 - accuracy: 0.3600\n",
      "Epoch 6/10\n",
      "10/10 [==============================] - 3s 318ms/step - loss: 1.0969 - accuracy: 0.3600\n",
      "Epoch 7/10\n",
      "10/10 [==============================] - 4s 378ms/step - loss: 1.0966 - accuracy: 0.3600\n",
      "Epoch 8/10\n",
      "10/10 [==============================] - 5s 470ms/step - loss: 1.0961 - accuracy: 0.3600\n",
      "Epoch 9/10\n",
      "10/10 [==============================] - 3s 325ms/step - loss: 1.0959 - accuracy: 0.3600\n",
      "Epoch 10/10\n",
      "10/10 [==============================] - 3s 313ms/step - loss: 1.0958 - accuracy: 0.3600\n"
     ]
    }
   ],
   "source": [
    "history = model.fit(flow(X_train,Y_train,10),epochs=10,steps_per_epoch=X_train.shape[0]//10)"
   ]
  },
  {
   "cell_type": "code",
   "execution_count": null,
   "metadata": {},
   "outputs": [],
   "source": []
  }
 ],
 "metadata": {
  "kernelspec": {
   "display_name": "Python 3",
   "language": "python",
   "name": "python3"
  },
  "language_info": {
   "codemirror_mode": {
    "name": "ipython",
    "version": 3
   },
   "file_extension": ".py",
   "mimetype": "text/x-python",
   "name": "python",
   "nbconvert_exporter": "python",
   "pygments_lexer": "ipython3",
   "version": "3.7.5"
  }
 },
 "nbformat": 4,
 "nbformat_minor": 4
}
