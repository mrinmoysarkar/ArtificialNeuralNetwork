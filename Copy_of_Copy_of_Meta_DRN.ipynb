{
  "nbformat": 4,
  "nbformat_minor": 0,
  "metadata": {
    "colab": {
      "name": "Copy of Copy of Meta-DRN.ipynb",
      "provenance": [],
      "collapsed_sections": [
        "vr4quL1TKA-w",
        "PUhI5QiX6_iS",
        "CZW60dmb7DlB",
        "5AzYmnmZ7I_k",
        "Obtq29hc7P9N",
        "btpmpj8Iodvj",
        "kqZg4for7eKn",
        "WG8LSbmWi1EA"
      ],
      "include_colab_link": true
    },
    "kernelspec": {
      "name": "python3",
      "display_name": "Python 3"
    },
    "accelerator": "GPU"
  },
  "cells": [
    {
      "cell_type": "markdown",
      "metadata": {
        "id": "view-in-github",
        "colab_type": "text"
      },
      "source": [
        "<a href=\"https://colab.research.google.com/github/mrinmoysarkar/ArtificialNeuralNetwork/blob/master/Copy_of_Copy_of_Meta_DRN.ipynb\" target=\"_parent\"><img src=\"https://colab.research.google.com/assets/colab-badge.svg\" alt=\"Open In Colab\"/></a>"
      ]
    },
    {
      "cell_type": "markdown",
      "metadata": {
        "id": "hV4JNlW4Jsu7"
      },
      "source": [
        "<div align=\"center\">\n",
        "\n",
        "## Meta-DRN: Meta-Learning for 1-Shot Image Segmentation\n",
        "\n",
        "</div>\n",
        "\n",
        "---\n",
        "\n",
        "### Introduction\n",
        "In this notebook we provide a PyTorch implementation of the paper [_Meta-DRN: Meta-Learning for 1-Shot Image Segmentation_](https://arxiv.org/pdf/2008.00247.pdf). The dataset used for training and testing the model is the [FSS-1000](https://github.com/HKUSTCV/FSS-1000) dataset which can be downloaded from this [link](https://drive.google.com/open?id=16TgqOeI_0P41Eh3jWQlxlRXG9KIqtMgI).\n",
        "\n",
        "### Data Preparation\n",
        "The model expects the user to extract the downlaoded zip file into a `data` directory located in the root directory. The folder structure of the `data` directory should be as follows\n",
        "\n",
        "`data -> fewshot_data -> 1000 folders each representing a class`\n",
        "\n",
        "\n",
        "\n",
        "### Dependencies\n",
        "\n",
        "The following packages are needed\n",
        "\n",
        "- torch==1.7.0\n",
        "- torchvision==0.8.1\n",
        "- pytorch_lightning==1.0.4\n",
        "- matplotlib==3.3.2\n",
        "- seaborn==0.11.0\n",
        "- higher==0.2.1\n",
        "\n",
        "The requirements can be installed by running the command `pip install -r requirements.txt` from inside the root directory. \n",
        "\n",
        "### Visualization\n",
        "The metrics and intermediate results during training can be visualized in tensorboard. This will create a directory called `lightning_logs` inside the root directory. During training, tensorboard events as well as model checkpoints will be stored in this directory.\n",
        "\n",
        "First, we install any missing dependencies\n"
      ]
    },
    {
      "cell_type": "code",
      "metadata": {
        "id": "4zEXFbVb3Ii1",
        "colab": {
          "base_uri": "https://localhost:8080/"
        },
        "outputId": "353b9535-ea23-47ab-df31-0f494eb360aa"
      },
      "source": [
        "!pip3 install pytorch-lightning higher"
      ],
      "execution_count": null,
      "outputs": [
        {
          "output_type": "stream",
          "text": [
            "Collecting pytorch-lightning\n",
            "\u001b[?25l  Downloading https://files.pythonhosted.org/packages/94/7b/0d5ef515a695fa55a29786297f9e8bd6e0f35a689decd53574cdd80597bc/pytorch_lightning-1.1.1-py3-none-any.whl (669kB)\n",
            "\r\u001b[K     |▌                               | 10kB 19.4MB/s eta 0:00:01\r\u001b[K     |█                               | 20kB 19.4MB/s eta 0:00:01\r\u001b[K     |█▌                              | 30kB 14.7MB/s eta 0:00:01\r\u001b[K     |██                              | 40kB 13.3MB/s eta 0:00:01\r\u001b[K     |██▌                             | 51kB 8.5MB/s eta 0:00:01\r\u001b[K     |███                             | 61kB 9.1MB/s eta 0:00:01\r\u001b[K     |███▍                            | 71kB 9.1MB/s eta 0:00:01\r\u001b[K     |████                            | 81kB 9.2MB/s eta 0:00:01\r\u001b[K     |████▍                           | 92kB 9.3MB/s eta 0:00:01\r\u001b[K     |█████                           | 102kB 10.0MB/s eta 0:00:01\r\u001b[K     |█████▍                          | 112kB 10.0MB/s eta 0:00:01\r\u001b[K     |█████▉                          | 122kB 10.0MB/s eta 0:00:01\r\u001b[K     |██████▍                         | 133kB 10.0MB/s eta 0:00:01\r\u001b[K     |██████▉                         | 143kB 10.0MB/s eta 0:00:01\r\u001b[K     |███████▍                        | 153kB 10.0MB/s eta 0:00:01\r\u001b[K     |███████▉                        | 163kB 10.0MB/s eta 0:00:01\r\u001b[K     |████████▎                       | 174kB 10.0MB/s eta 0:00:01\r\u001b[K     |████████▉                       | 184kB 10.0MB/s eta 0:00:01\r\u001b[K     |█████████▎                      | 194kB 10.0MB/s eta 0:00:01\r\u001b[K     |█████████▉                      | 204kB 10.0MB/s eta 0:00:01\r\u001b[K     |██████████▎                     | 215kB 10.0MB/s eta 0:00:01\r\u001b[K     |██████████▊                     | 225kB 10.0MB/s eta 0:00:01\r\u001b[K     |███████████▎                    | 235kB 10.0MB/s eta 0:00:01\r\u001b[K     |███████████▊                    | 245kB 10.0MB/s eta 0:00:01\r\u001b[K     |████████████▎                   | 256kB 10.0MB/s eta 0:00:01\r\u001b[K     |████████████▊                   | 266kB 10.0MB/s eta 0:00:01\r\u001b[K     |█████████████▏                  | 276kB 10.0MB/s eta 0:00:01\r\u001b[K     |█████████████▊                  | 286kB 10.0MB/s eta 0:00:01\r\u001b[K     |██████████████▏                 | 296kB 10.0MB/s eta 0:00:01\r\u001b[K     |██████████████▊                 | 307kB 10.0MB/s eta 0:00:01\r\u001b[K     |███████████████▏                | 317kB 10.0MB/s eta 0:00:01\r\u001b[K     |███████████████▋                | 327kB 10.0MB/s eta 0:00:01\r\u001b[K     |████████████████▏               | 337kB 10.0MB/s eta 0:00:01\r\u001b[K     |████████████████▋               | 348kB 10.0MB/s eta 0:00:01\r\u001b[K     |█████████████████▏              | 358kB 10.0MB/s eta 0:00:01\r\u001b[K     |█████████████████▋              | 368kB 10.0MB/s eta 0:00:01\r\u001b[K     |██████████████████              | 378kB 10.0MB/s eta 0:00:01\r\u001b[K     |██████████████████▋             | 389kB 10.0MB/s eta 0:00:01\r\u001b[K     |███████████████████             | 399kB 10.0MB/s eta 0:00:01\r\u001b[K     |███████████████████▋            | 409kB 10.0MB/s eta 0:00:01\r\u001b[K     |████████████████████            | 419kB 10.0MB/s eta 0:00:01\r\u001b[K     |████████████████████▌           | 430kB 10.0MB/s eta 0:00:01\r\u001b[K     |█████████████████████           | 440kB 10.0MB/s eta 0:00:01\r\u001b[K     |█████████████████████▌          | 450kB 10.0MB/s eta 0:00:01\r\u001b[K     |██████████████████████          | 460kB 10.0MB/s eta 0:00:01\r\u001b[K     |██████████████████████▌         | 471kB 10.0MB/s eta 0:00:01\r\u001b[K     |███████████████████████         | 481kB 10.0MB/s eta 0:00:01\r\u001b[K     |███████████████████████▌        | 491kB 10.0MB/s eta 0:00:01\r\u001b[K     |████████████████████████        | 501kB 10.0MB/s eta 0:00:01\r\u001b[K     |████████████████████████▌       | 512kB 10.0MB/s eta 0:00:01\r\u001b[K     |█████████████████████████       | 522kB 10.0MB/s eta 0:00:01\r\u001b[K     |█████████████████████████▍      | 532kB 10.0MB/s eta 0:00:01\r\u001b[K     |██████████████████████████      | 542kB 10.0MB/s eta 0:00:01\r\u001b[K     |██████████████████████████▍     | 552kB 10.0MB/s eta 0:00:01\r\u001b[K     |███████████████████████████     | 563kB 10.0MB/s eta 0:00:01\r\u001b[K     |███████████████████████████▍    | 573kB 10.0MB/s eta 0:00:01\r\u001b[K     |███████████████████████████▉    | 583kB 10.0MB/s eta 0:00:01\r\u001b[K     |████████████████████████████▍   | 593kB 10.0MB/s eta 0:00:01\r\u001b[K     |████████████████████████████▉   | 604kB 10.0MB/s eta 0:00:01\r\u001b[K     |█████████████████████████████▍  | 614kB 10.0MB/s eta 0:00:01\r\u001b[K     |█████████████████████████████▉  | 624kB 10.0MB/s eta 0:00:01\r\u001b[K     |██████████████████████████████▍ | 634kB 10.0MB/s eta 0:00:01\r\u001b[K     |██████████████████████████████▉ | 645kB 10.0MB/s eta 0:00:01\r\u001b[K     |███████████████████████████████▎| 655kB 10.0MB/s eta 0:00:01\r\u001b[K     |███████████████████████████████▉| 665kB 10.0MB/s eta 0:00:01\r\u001b[K     |████████████████████████████████| 675kB 10.0MB/s \n",
            "\u001b[?25hCollecting higher\n",
            "  Downloading https://files.pythonhosted.org/packages/63/94/bb9b7326cb11fcbb025f7895594655b74b1d6efbb290694b911ca9bddaa8/higher-0.2.1-py3-none-any.whl\n",
            "Requirement already satisfied: tqdm>=4.41.0 in /usr/local/lib/python3.6/dist-packages (from pytorch-lightning) (4.41.1)\n",
            "Requirement already satisfied: tensorboard>=2.2.0 in /usr/local/lib/python3.6/dist-packages (from pytorch-lightning) (2.4.0)\n",
            "Collecting future>=0.17.1\n",
            "\u001b[?25l  Downloading https://files.pythonhosted.org/packages/45/0b/38b06fd9b92dc2b68d58b75f900e97884c45bedd2ff83203d933cf5851c9/future-0.18.2.tar.gz (829kB)\n",
            "\u001b[K     |████████████████████████████████| 829kB 16.4MB/s \n",
            "\u001b[?25hRequirement already satisfied: numpy>=1.16.6 in /usr/local/lib/python3.6/dist-packages (from pytorch-lightning) (1.19.4)\n",
            "Collecting fsspec>=0.8.0\n",
            "\u001b[?25l  Downloading https://files.pythonhosted.org/packages/ec/80/72ac0982cc833945fada4b76c52f0f65435ba4d53bc9317d1c70b5f7e7d5/fsspec-0.8.5-py3-none-any.whl (98kB)\n",
            "\u001b[K     |████████████████████████████████| 102kB 11.9MB/s \n",
            "\u001b[?25hRequirement already satisfied: torch>=1.3 in /usr/local/lib/python3.6/dist-packages (from pytorch-lightning) (1.7.0+cu101)\n",
            "Collecting PyYAML>=5.1\n",
            "\u001b[?25l  Downloading https://files.pythonhosted.org/packages/64/c2/b80047c7ac2478f9501676c988a5411ed5572f35d1beff9cae07d321512c/PyYAML-5.3.1.tar.gz (269kB)\n",
            "\u001b[K     |████████████████████████████████| 276kB 23.5MB/s \n",
            "\u001b[?25hRequirement already satisfied: tensorboard-plugin-wit>=1.6.0 in /usr/local/lib/python3.6/dist-packages (from tensorboard>=2.2.0->pytorch-lightning) (1.7.0)\n",
            "Requirement already satisfied: protobuf>=3.6.0 in /usr/local/lib/python3.6/dist-packages (from tensorboard>=2.2.0->pytorch-lightning) (3.12.4)\n",
            "Requirement already satisfied: werkzeug>=0.11.15 in /usr/local/lib/python3.6/dist-packages (from tensorboard>=2.2.0->pytorch-lightning) (1.0.1)\n",
            "Requirement already satisfied: grpcio>=1.24.3 in /usr/local/lib/python3.6/dist-packages (from tensorboard>=2.2.0->pytorch-lightning) (1.32.0)\n",
            "Requirement already satisfied: requests<3,>=2.21.0 in /usr/local/lib/python3.6/dist-packages (from tensorboard>=2.2.0->pytorch-lightning) (2.23.0)\n",
            "Requirement already satisfied: absl-py>=0.4 in /usr/local/lib/python3.6/dist-packages (from tensorboard>=2.2.0->pytorch-lightning) (0.10.0)\n",
            "Requirement already satisfied: google-auth-oauthlib<0.5,>=0.4.1 in /usr/local/lib/python3.6/dist-packages (from tensorboard>=2.2.0->pytorch-lightning) (0.4.2)\n",
            "Requirement already satisfied: setuptools>=41.0.0 in /usr/local/lib/python3.6/dist-packages (from tensorboard>=2.2.0->pytorch-lightning) (50.3.2)\n",
            "Requirement already satisfied: wheel>=0.26; python_version >= \"3\" in /usr/local/lib/python3.6/dist-packages (from tensorboard>=2.2.0->pytorch-lightning) (0.36.2)\n",
            "Requirement already satisfied: markdown>=2.6.8 in /usr/local/lib/python3.6/dist-packages (from tensorboard>=2.2.0->pytorch-lightning) (3.3.3)\n",
            "Requirement already satisfied: six>=1.10.0 in /usr/local/lib/python3.6/dist-packages (from tensorboard>=2.2.0->pytorch-lightning) (1.15.0)\n",
            "Requirement already satisfied: google-auth<2,>=1.6.3 in /usr/local/lib/python3.6/dist-packages (from tensorboard>=2.2.0->pytorch-lightning) (1.17.2)\n",
            "Requirement already satisfied: typing-extensions in /usr/local/lib/python3.6/dist-packages (from torch>=1.3->pytorch-lightning) (3.7.4.3)\n",
            "Requirement already satisfied: dataclasses in /usr/local/lib/python3.6/dist-packages (from torch>=1.3->pytorch-lightning) (0.8)\n",
            "Requirement already satisfied: urllib3!=1.25.0,!=1.25.1,<1.26,>=1.21.1 in /usr/local/lib/python3.6/dist-packages (from requests<3,>=2.21.0->tensorboard>=2.2.0->pytorch-lightning) (1.24.3)\n",
            "Requirement already satisfied: chardet<4,>=3.0.2 in /usr/local/lib/python3.6/dist-packages (from requests<3,>=2.21.0->tensorboard>=2.2.0->pytorch-lightning) (3.0.4)\n",
            "Requirement already satisfied: certifi>=2017.4.17 in /usr/local/lib/python3.6/dist-packages (from requests<3,>=2.21.0->tensorboard>=2.2.0->pytorch-lightning) (2020.12.5)\n",
            "Requirement already satisfied: idna<3,>=2.5 in /usr/local/lib/python3.6/dist-packages (from requests<3,>=2.21.0->tensorboard>=2.2.0->pytorch-lightning) (2.10)\n",
            "Requirement already satisfied: requests-oauthlib>=0.7.0 in /usr/local/lib/python3.6/dist-packages (from google-auth-oauthlib<0.5,>=0.4.1->tensorboard>=2.2.0->pytorch-lightning) (1.3.0)\n",
            "Requirement already satisfied: importlib-metadata; python_version < \"3.8\" in /usr/local/lib/python3.6/dist-packages (from markdown>=2.6.8->tensorboard>=2.2.0->pytorch-lightning) (3.3.0)\n",
            "Requirement already satisfied: rsa<5,>=3.1.4; python_version >= \"3\" in /usr/local/lib/python3.6/dist-packages (from google-auth<2,>=1.6.3->tensorboard>=2.2.0->pytorch-lightning) (4.6)\n",
            "Requirement already satisfied: pyasn1-modules>=0.2.1 in /usr/local/lib/python3.6/dist-packages (from google-auth<2,>=1.6.3->tensorboard>=2.2.0->pytorch-lightning) (0.2.8)\n",
            "Requirement already satisfied: cachetools<5.0,>=2.0.0 in /usr/local/lib/python3.6/dist-packages (from google-auth<2,>=1.6.3->tensorboard>=2.2.0->pytorch-lightning) (4.2.0)\n",
            "Requirement already satisfied: oauthlib>=3.0.0 in /usr/local/lib/python3.6/dist-packages (from requests-oauthlib>=0.7.0->google-auth-oauthlib<0.5,>=0.4.1->tensorboard>=2.2.0->pytorch-lightning) (3.1.0)\n",
            "Requirement already satisfied: zipp>=0.5 in /usr/local/lib/python3.6/dist-packages (from importlib-metadata; python_version < \"3.8\"->markdown>=2.6.8->tensorboard>=2.2.0->pytorch-lightning) (3.4.0)\n",
            "Requirement already satisfied: pyasn1>=0.1.3 in /usr/local/lib/python3.6/dist-packages (from rsa<5,>=3.1.4; python_version >= \"3\"->google-auth<2,>=1.6.3->tensorboard>=2.2.0->pytorch-lightning) (0.4.8)\n",
            "Building wheels for collected packages: future, PyYAML\n",
            "  Building wheel for future (setup.py) ... \u001b[?25l\u001b[?25hdone\n",
            "  Created wheel for future: filename=future-0.18.2-cp36-none-any.whl size=491057 sha256=3ed0f2e23651a655906a0c10f7ad59e3e32bc4269168e89955593a496e987ad2\n",
            "  Stored in directory: /root/.cache/pip/wheels/8b/99/a0/81daf51dcd359a9377b110a8a886b3895921802d2fc1b2397e\n",
            "  Building wheel for PyYAML (setup.py) ... \u001b[?25l\u001b[?25hdone\n",
            "  Created wheel for PyYAML: filename=PyYAML-5.3.1-cp36-cp36m-linux_x86_64.whl size=44621 sha256=cfcc0c22f47b89ed21878f32c27e8ff63c74b312b286bc79ce51b0354fb9b4ad\n",
            "  Stored in directory: /root/.cache/pip/wheels/a7/c1/ea/cf5bd31012e735dc1dfea3131a2d5eae7978b251083d6247bd\n",
            "Successfully built future PyYAML\n",
            "Installing collected packages: future, fsspec, PyYAML, pytorch-lightning, higher\n",
            "  Found existing installation: future 0.16.0\n",
            "    Uninstalling future-0.16.0:\n",
            "      Successfully uninstalled future-0.16.0\n",
            "  Found existing installation: PyYAML 3.13\n",
            "    Uninstalling PyYAML-3.13:\n",
            "      Successfully uninstalled PyYAML-3.13\n",
            "Successfully installed PyYAML-5.3.1 fsspec-0.8.5 future-0.18.2 higher-0.2.1 pytorch-lightning-1.1.1\n"
          ],
          "name": "stdout"
        }
      ]
    },
    {
      "cell_type": "markdown",
      "metadata": {
        "id": "luPr9Jve62wY"
      },
      "source": [
        "## Import the general libraries used"
      ]
    },
    {
      "cell_type": "code",
      "metadata": {
        "id": "GLgiYupyJq9q",
        "cellView": "form"
      },
      "source": [
        "#@title\n",
        "# generic\n",
        "import functools\n",
        "import os, gc\n",
        "import time\n",
        "import random\n",
        "import shutil\n",
        "import zipfile\n",
        "from collections import Counter, OrderedDict\n",
        "from PIL import Image\n",
        "from tqdm import tqdm\n",
        "\n",
        "# numeric computation and plotting\n",
        "import numpy as np\n",
        "import matplotlib.pyplot as plt\n",
        "import seaborn as sns\n",
        "\n",
        "# deep learning\n",
        "import torch\n",
        "from torch import nn, optim\n",
        "import torch.nn.functional as F\n",
        "from torchvision import transforms\n",
        "from torchvision.io import read_image\n",
        "import pytorch_lightning as pl\n",
        "from pytorch_lightning import Trainer, seed_everything\n",
        "from torch.utils.data import Dataset, DataLoader, random_split\n",
        "from torch.nn.parameter import Parameter\n",
        "from torch._C import ParameterDict\n",
        "from pytorch_lightning.metrics.functional.classification import iou\n",
        "from torch.utils.tensorboard import SummaryWriter\n",
        "from torch.optim import Optimizer\n",
        "from higher.optim import DifferentiableOptimizer\n",
        "from higher import register_optim\n",
        "from torch.optim import AdamW\n",
        "from torch.utils.data import DataLoader\n",
        "import albumentations as A\n",
        "from albumentations.pytorch.transforms import ToTensor\n",
        "from torch.utils.data import Dataset\n",
        "from torch import Tensor\n",
        "from torch.nn import Module\n",
        "from torch.types import Device\n",
        "\n",
        "import builtins\n",
        "from typing import Any, Callable, Dict, Mapping, Optional, Tuple, Type, Union, List\n",
        "\n",
        "from copy import deepcopy\n",
        "from collections import OrderedDict\n",
        "\n",
        "import higher\n",
        "from higher.optim import _GroupedGradsType, _torch, _math, _add, _addcdiv, _maybe_mask, DifferentiableAdam\n",
        "\n",
        "\n",
        "\n",
        "import requests\n",
        "from requests.models import Response\n",
        "\n",
        "# seeding for reprocibility\n",
        "seed_everything(1971) # 1971 --> random seed\n",
        "\n",
        "# environment setup\n",
        "%load_ext autoreload\n",
        "%autoreload 2\n",
        "%matplotlib inline\n",
        "# Load the TensorBoard notebook extension\n",
        "%load_ext tensorboard"
      ],
      "execution_count": null,
      "outputs": []
    },
    {
      "cell_type": "markdown",
      "metadata": {
        "id": "vr4quL1TKA-w"
      },
      "source": [
        "### Model, Data and training configurations"
      ]
    },
    {
      "cell_type": "code",
      "metadata": {
        "id": "eGJrW2dkKBVL",
        "cellView": "form"
      },
      "source": [
        "#@title\n",
        "\"\"\"Configs for global use\"\"\"\n",
        "global_config = {'seed': 1971}\n",
        "\n",
        "\"\"\"Configs for the dataset options\"\"\"\n",
        "data_config = {\n",
        "    'data_root': 'data',\n",
        "    'dataset_name': 'FSS-1000',\n",
        "    'gdrive_file_id': '16TgqOeI_0P41Eh3jWQlxlRXG9KIqtMgI',\n",
        "    'dataset_dir': 'fewshot_data',\n",
        "    'img_height': 224,\n",
        "    'img_width': 224,\n",
        "    'n_classes': 1000,\n",
        "    'n_train_classes': 700,\n",
        "    'n_val_classes': 60,\n",
        "    'n_test_classes': 240,\n",
        "    'shuffle': True,\n",
        "    'num_workers': 1,\n",
        "    'normalize_mean': [0.485, 0.456, 0.406],\n",
        "    'normalize_std': [0.229, 0.224, 0.225],\n",
        "    'batch_size': 1,\n",
        "    'maml': {\n",
        "        'test_shots': 1,\n",
        "        'train_shots': 1,\n",
        "        'n_ways': 5\n",
        "    },\n",
        "    'fomaml': {\n",
        "        'test_shots': 1,\n",
        "        'train_shots': 1,\n",
        "        'n_ways': 5\n",
        "    },\n",
        "    'meta-sgd': {\n",
        "        'test_shots': 1,\n",
        "        'train_shots': 1,\n",
        "        'n_ways': 5\n",
        "    },\n",
        "    'reptile': {\n",
        "        'test_shots': 1,\n",
        "        'train_shots': 1,\n",
        "        'n_ways': 5\n",
        "    }\n",
        "}\n",
        "\n",
        "\"\"\"Configs for the model hyperparameters\"\"\"\n",
        "model_config = {\n",
        "    'head': {\n",
        "        'conv1': {\n",
        "            'in_channels': 3,\n",
        "            'out_channels': 16,\n",
        "            'kernel_size': 3,\n",
        "            'stride': 2,\n",
        "            'padding': 1,\n",
        "            'dilation': 1\n",
        "        },\n",
        "        'bn1': {\n",
        "            'num_features': 16\n",
        "        },\n",
        "        'conv2': {\n",
        "            'in_channels': 16,\n",
        "            'out_channels': 64,\n",
        "            'kernel_size': 3,\n",
        "            'stride': 1,\n",
        "            'padding': 1,\n",
        "            'dilation': 1\n",
        "        },\n",
        "        'bn2': {\n",
        "            'num_features': 64\n",
        "        }\n",
        "    },\n",
        "    'resblocks': {\n",
        "        'resblock1': {\n",
        "            'conv1': {\n",
        "                'in_channels': 64,\n",
        "                'out_channels': 128,\n",
        "                'kernel_size': 3,\n",
        "                'stride': 2,\n",
        "                'padding': 1,\n",
        "                'dilation': 1\n",
        "            },\n",
        "            'conv2': {\n",
        "                'in_channels': 128,\n",
        "                'out_channels': 128,\n",
        "                'kernel_size': 3,\n",
        "                'stride': 1,\n",
        "                'padding': 1,\n",
        "                'dilation': 1\n",
        "            }\n",
        "        },\n",
        "        'resblock2': {\n",
        "            'conv1': {\n",
        "                'in_channels': 128,\n",
        "                'out_channels': 256,\n",
        "                'kernel_size': 3,\n",
        "                'stride': 1,\n",
        "                'padding': 1,\n",
        "                'dilation': 1\n",
        "            },\n",
        "            'conv2': {\n",
        "                'in_channels': 256,\n",
        "                'out_channels': 256,\n",
        "                'kernel_size': 3,\n",
        "                'stride': 1,\n",
        "                'padding': 2,\n",
        "                'dilation': 2\n",
        "            }\n",
        "        },\n",
        "        'resblock3': {\n",
        "            'conv1': {\n",
        "                'in_channels': 256,\n",
        "                'out_channels': 512,\n",
        "                'kernel_size': 3,\n",
        "                'stride': 1,\n",
        "                'padding': 2,\n",
        "                'dilation': 2\n",
        "            },\n",
        "            'conv2': {\n",
        "                'in_channels': 512,\n",
        "                'out_channels': 512,\n",
        "                'kernel_size': 3,\n",
        "                'stride': 1,\n",
        "                'padding': 4,\n",
        "                'dilation': 4\n",
        "            }\n",
        "        }\n",
        "    },\n",
        "    'reducer': {\n",
        "        'resblock1': {\n",
        "            'in_channels': 64,\n",
        "            'out_channels': 128,\n",
        "            'kernel_size': 1,\n",
        "            'stride': 2,\n",
        "            'padding': 0,\n",
        "            'dilation': 1\n",
        "        },\n",
        "        'resblock2': {\n",
        "            'in_channels': 128,\n",
        "            'out_channels': 256,\n",
        "            'kernel_size': 1,\n",
        "            'stride': 1,\n",
        "            'padding': 0,\n",
        "            'dilation': 1\n",
        "        },\n",
        "        'resblock3': {\n",
        "            'in_channels': 256,\n",
        "            'out_channels': 512,\n",
        "            'kernel_size': 1,\n",
        "            'stride': 1,\n",
        "            'padding': 0,\n",
        "            'dilation': 1\n",
        "        }\n",
        "    },\n",
        "    'degrid': {\n",
        "        'conv1': {\n",
        "            'in_channels': 512,\n",
        "            'out_channels': 512,\n",
        "            'kernel_size': 3,\n",
        "            'stride': 1,\n",
        "            'padding': 2,\n",
        "            'dilation': 2\n",
        "        },\n",
        "        'conv2': {\n",
        "            'in_channels': 512,\n",
        "            'out_channels': 512,\n",
        "            'kernel_size': 3,\n",
        "            'stride': 1,\n",
        "            'padding': 1,\n",
        "            'dilation': 1\n",
        "        }\n",
        "    },\n",
        "    'upsample': {\n",
        "        'conv': {\n",
        "            'in_channels': 512,\n",
        "            'out_channels': 32,\n",
        "            'kernel_size': 3,\n",
        "            'stride': 1,\n",
        "            'padding': 1,\n",
        "            'dilation': 1\n",
        "        },\n",
        "        'pixel_shuffle': {\n",
        "            'upscale_factor': 4\n",
        "        }\n",
        "    }\n",
        "}\n",
        "\n",
        "\"\"\"Configs for training\"\"\"\n",
        "train_config = {\n",
        "    'ngpus': 1,\n",
        "    'metrics': ['iou', 'learner_loss', 'meta_loss'],\n",
        "    'n_epochs': 200,\n",
        "    'maml': {\n",
        "        'learner_lr': 1e-3,\n",
        "        'meta_lr': 1e-3,\n",
        "        'train_steps': 1,\n",
        "        'halve_lr_every': 8,\n",
        "        'lr_reduction_factor': 0.5,\n",
        "        'metric_to_watch': 'mIoU'\n",
        "    },\n",
        "    'fomaml': {\n",
        "        'learner_lr': 1e-3,\n",
        "        'meta_lr': 1e-3,\n",
        "        'train_steps': 1,\n",
        "        'halve_lr_every': 8,\n",
        "        'lr_reduction_factor': 0.5,\n",
        "        'metric_to_watch': 'mIoU'\n",
        "    },\n",
        "    'meta-sgd': {\n",
        "        'learner_lr': 1e-3,\n",
        "        'meta_lr': 1e-3,\n",
        "        'train_steps': 1,\n",
        "        'halve_lr_every': 8,\n",
        "        'lr_reduction_factor': 0.5,\n",
        "        'metric_to_watch': 'iou'\n",
        "    },\n",
        "    'reptile': {\n",
        "        'learner_lr': 1e-3,\n",
        "        'meta_lr': 3e-2,\n",
        "        'train_steps': 5,\n",
        "        'final_meta_lr': 3e-5,\n",
        "        'metric_to_watch': 'mIoU'\n",
        "    }\n",
        "}\n",
        "\n",
        "\"\"\"Configs for utlities and transformations\"\"\"\n",
        "utils_config = {\n",
        "    'transforms': [{\n",
        "        'transform': 'Resize',\n",
        "        'params': {\n",
        "            'height': data_config['img_height'],\n",
        "            'width': data_config['img_width']\n",
        "        }\n",
        "    }, {\n",
        "        'transform': 'HorizontalFlip'\n",
        "    }, {\n",
        "        'transform': 'VerticalFlip'\n",
        "    }, {\n",
        "        'transform': 'ShiftScaleRotate',\n",
        "        'params': {\n",
        "            'shift_limit': 0,\n",
        "            'rotate_limit': 0\n",
        "        }\n",
        "    }, {\n",
        "        'transform': 'RandomBrightnessContrast'\n",
        "    }, {\n",
        "        'transform': 'Normalize',\n",
        "        'params': {\n",
        "            'mean': [0.485, 0.456, 0.406],\n",
        "            'std': [0.229, 0.224, 0.225]\n",
        "        }\n",
        "    }]\n",
        "}\n",
        "\n",
        "\"\"\"Configs for visualization\"\"\"\n",
        "vis_config = {\n",
        "    'tensorboard': {\n",
        "        'logdir': 'logs',\n",
        "        'progress_bar': ['iou', 'learner_loss', 'meta_loss']\n",
        "    }\n",
        "}"
      ],
      "execution_count": null,
      "outputs": []
    },
    {
      "cell_type": "markdown",
      "metadata": {
        "id": "PUhI5QiX6_iS"
      },
      "source": [
        "## Typings to stay consistent with PEP 484"
      ]
    },
    {
      "cell_type": "code",
      "metadata": {
        "id": "1IuGnaic0HeH",
        "cellView": "form"
      },
      "source": [
        "#@title\n",
        "\"\"\"A list of common types used in multiple places.\"\"\"\n",
        "\n",
        "_int = builtins.int\n",
        "_float = builtins.float\n",
        "_tensor = Tensor\n",
        "\n",
        "_opt_int = Optional[_int]\n",
        "_opt_float = Optional[_float]\n",
        "_opt_tensor = Optional[Tensor]\n",
        "\n",
        "_inttuple = Tuple[_int, _int]\n",
        "_floattuple = Tuple[_float, _float]\n",
        "_strtuple = Tuple[str, str]\n",
        "_ttuple = Tuple[Tensor, Tensor]\n",
        "_opt_ttuple = Optional[_ttuple]\n",
        "\n",
        "_intstr = Union[_int, str]\n",
        "_intfloat = Union[_int, _float]"
      ],
      "execution_count": null,
      "outputs": []
    },
    {
      "cell_type": "markdown",
      "metadata": {
        "id": "CZW60dmb7DlB"
      },
      "source": [
        "## Utilities for downloading the dataset"
      ]
    },
    {
      "cell_type": "code",
      "metadata": {
        "id": "G1R1CCLWzmu3",
        "cellView": "form"
      },
      "source": [
        "#@title\n",
        "\"\"\"Implementation of the torch dataset\"\"\"\n",
        "\n",
        "\n",
        "\n",
        "def download_file_from_google_drive(file_id: str, destination: str) -> None:\n",
        "    print(\"Downloading \", destination.rpartition(\"/\")[-1])\n",
        "    url = \"https://docs.google.com/uc?export=download\"\n",
        "    session = requests.Session()\n",
        "    response = session.get(url, params={\"id\": file_id}, stream=True)\n",
        "    token = get_confirm_token(response)\n",
        "    if token:\n",
        "        params = {\"id\": file_id, \"confirm\": token}\n",
        "        response = session.get(url, params=params, stream=True)\n",
        "    save_response_content(response, destination)\n",
        "\n",
        "\n",
        "def get_confirm_token(response: Response) -> Union[str, None]:\n",
        "    for key, value in response.cookies.items():\n",
        "        if key.startswith(\"download_warning\"):\n",
        "            return value\n",
        "    return None\n",
        "\n",
        "\n",
        "def save_response_content(response: Response, destination: str) -> None:\n",
        "    chunk_size = 32768\n",
        "    with open(destination, \"wb\") as f:\n",
        "        pbar = tqdm(total=None)\n",
        "        progress = 0\n",
        "        for chunk in response.iter_content(chunk_size):\n",
        "            if chunk:  # filter out keep-alive new chunks\n",
        "                progress += len(chunk)\n",
        "                pbar.update(progress - pbar.n)\n",
        "                f.write(chunk)\n",
        "        pbar.close()\n",
        "\n",
        "\n",
        "def count_parameters(model: Module) -> _int:\n",
        "    return sum(p.numel() for p in model.parameters() if p.requires_grad)\n",
        "\n",
        "\n",
        "def get_transforms() -> A.Compose:\n",
        "    transforms = utils_config[\"transforms\"]\n",
        "    ts = []\n",
        "    for t in transforms:\n",
        "        trans = t[\"transform\"]\n",
        "        params = t.get(\"params\", {})\n",
        "        if hasattr(A, trans):\n",
        "            if params is not None:\n",
        "                ts.append(getattr(A, trans)(**params))\n",
        "            else:\n",
        "                ts.append(getattr(A, trans)(**params))\n",
        "    transform = A.Compose([*ts, ToTensor()])\n",
        "    return transform\n",
        "\n",
        "\n",
        "def timer(func: Callable[..., Any]) -> Callable[..., Any]:\n",
        "    @functools.wraps(func)\n",
        "    def wrapper(*args, **kwargs):\n",
        "        t1 = time.perf_counter()\n",
        "        retval = func(*args, **kwargs)\n",
        "        t2 = time.perf_counter()\n",
        "        wrapper.time_taken = t2 - t1\n",
        "        print(\"Time taken to run %s: %.2fs\" % (func.__name__, t2 - t1))\n",
        "        return retval\n",
        "\n",
        "    return wrapper\n",
        "\n",
        "\n",
        "class FSSDataset(Dataset):\n",
        "    \"\"\"A subclass of torch.utils.data.Dataset that reads images\n",
        "    from the  dataset folder into the appropriate support and query\n",
        "    sets defined in data_config.\n",
        "    \"\"\"\n",
        "    folder = data_config['dataset_dir']\n",
        "\n",
        "    def __init__(self,\n",
        "                 root: str,\n",
        "                 ways: _int,\n",
        "                 shots: _int,\n",
        "                 test_shots: _int,\n",
        "                 meta_split: Optional[str] = 'train',\n",
        "                 transform: Optional[Any] = None,\n",
        "                 download: Optional[bool] = True,\n",
        "                 test_samples: Optional[list] = None,\n",
        "                 ):\n",
        "        super().__init__()\n",
        "        assert meta_split in ['train', 'val',\n",
        "                          'test'], \"meta-split must be either 'train',\\\n",
        "                 'val' or 'test'\"\n",
        "\n",
        "        self.ways = ways\n",
        "        self.shots = shots\n",
        "        self.transform = transform\n",
        "        self.test_shots = test_shots\n",
        "        self.meta_split = meta_split\n",
        "        self.test_samples = test_samples\n",
        "        if transform is None:\n",
        "            self.transform = A.Compose([\n",
        "                                        A.Normalize(mean=data_config['normalize_mean'], std=data_config['normalize_std']),\n",
        "                                        ToTensor()\n",
        "                                        ])\n",
        "        else:\n",
        "            self.transform = transform\n",
        "        if download:\n",
        "            self.download(root)\n",
        "\n",
        "        self.root = os.path.expanduser(os.path.join(root, self.folder))\n",
        "        all_classes = os.listdir(self.root)\n",
        "\n",
        "        if meta_split == 'train':\n",
        "            self.classes = [all_classes[i] for i in range(data_config['n_train_classes'])]\n",
        "        elif meta_split == 'val':\n",
        "            self.classes = [\n",
        "                            all_classes[i]\n",
        "                            for i in range(data_config['n_train_classes'], data_config['n_train_classes'] +\n",
        "                                           data_config['n_val_classes'])\n",
        "                            ]\n",
        "        else:\n",
        "            self.classes = [\n",
        "                            all_classes[i]\n",
        "                            for i in range(data_config['n_train_classes'] +\n",
        "                                           data_config['n_val_classes'], data_config['n_classes'])\n",
        "                            ]\n",
        "\n",
        "        self.num_classes = len(self.classes)\n",
        "\n",
        "    def thresh_mask(self, mask, thresh=0.5):\n",
        "        thresh = (mask.min() + mask.max()) * thresh\n",
        "        mask = mask > thresh\n",
        "        return mask.long()\n",
        "\n",
        "    def make_batch(self, classes):\n",
        "        shots = self.shots + self.test_shots\n",
        "        batch = torch.zeros((shots, self.ways, 4, 224, 224))\n",
        "        for i in range(shots):\n",
        "            for j, cname in enumerate(classes):\n",
        "                img_id = str(random.choice(list(range(1, 11))))\n",
        "                img = Image.open(os.path.join(self.root, cname,\n",
        "                                            img_id + '.jpg')).convert('RGB')\n",
        "                mask = Image.open(os.path.join(self.root, cname,\n",
        "                                            img_id + '.png')).convert('RGB')\n",
        "                img, mask = np.array(img), np.array(mask)[:, :, 0]\n",
        "                transformed = self.transform(image=img, mask=mask)\n",
        "                batch[i, j, :3, :, :] = transformed['image']\n",
        "                batch[i, j, 3:, :, :] = self.thresh_mask(transformed['mask'])\n",
        "        return batch\n",
        "\n",
        "    @staticmethod\n",
        "    def break_batch(batch, shots, ways, shuffle=True):\n",
        "        permute = torch.randperm(ways) if shuffle else torch.arange(ways)\n",
        "        train_images, train_masks = batch[:, :shots, permute, :3, :, :],\\\n",
        "            batch[:, :shots, permute, 3:, :, :]\n",
        "\n",
        "        test_images, test_masks = batch[:, shots:, :, :3, :, :],\\\n",
        "            batch[:, shots:, :, 3:, :, :]\n",
        "\n",
        "        return (train_images, train_masks), (test_images, test_masks)\n",
        "\n",
        "    def __getitem__(self, class_index):\n",
        "        if self.test_samples is not None:\n",
        "            classes = self.test_samples\n",
        "        else:\n",
        "            classes = [\n",
        "                    self.classes[i] for i in range(class_index, (class_index + self.ways) %\n",
        "                                                    (self.num_classes+1))\n",
        "                    ]\n",
        "        # print(len(classes), class_index)\n",
        "        batch = self.make_batch(classes)\n",
        "        return batch\n",
        "\n",
        "    def __len__(self):\n",
        "        return self.num_classes - self.ways + 1\n",
        "\n",
        "    def download(self, root, remove_zip=True):\n",
        "        filename = data_config['dataset_dir'] + '.zip'\n",
        "\n",
        "        if os.path.exists(root):\n",
        "            return\n",
        "\n",
        "        file_id = data_config['gdrive_file_id']\n",
        "\n",
        "        download_file_from_google_drive(file_id, filename)\n",
        "\n",
        "        with zipfile.ZipFile(filename, 'r') as f:\n",
        "            f.extractall()\n",
        "\n",
        "        if remove_zip:\n",
        "            os.remove(filename)\n",
        "\n",
        "        shutil.move(data_config['dataset_dir'], root)\n"
      ],
      "execution_count": null,
      "outputs": []
    },
    {
      "cell_type": "code",
      "metadata": {
        "id": "8xV3lpo6zhQN",
        "cellView": "form"
      },
      "source": [
        "#@title\n",
        "\"\"\"Helper functions for retrieving dataloaders\"\"\"\n",
        "\n",
        "\n",
        "def get_dataset(algo: str, meta_split='train', test_samples=None):\n",
        "    \"\"\"Retrieves dataset corresponding to parameters\n",
        "        defined in config module for the meta learning algorithm used.\n",
        "\n",
        "    Args:\n",
        "      algo (str): Meta learning algorithm from [maml, fomaml,\\\n",
        "       meta-sgd, reptile]\n",
        "      meta_split (str, optional): 'train' or 'test' split of the data.\\\n",
        "       Defaults to 'train'.\n",
        "\n",
        "    Returns:\n",
        "      Dataset: An instance of the Dataset class.\n",
        "    \"\"\"\n",
        "    transform = get_transforms()\n",
        "    data_root = data_config['data_root']\n",
        "    n_ways = data_config[algo]['n_ways']\n",
        "    train_shots = data_config[algo]['train_shots']\n",
        "    test_shots = data_config[algo]['test_shots']\n",
        "\n",
        "    dataset = FSSDataset(data_root, n_ways, train_shots, test_shots, meta_split,\n",
        "                       transform, test_samples=test_samples)\n",
        "    return dataset\n",
        "\n",
        "\n",
        "def get_dataloader(algo: str, meta_split='train', test_samples=None):\n",
        "    \"\"\"Retrieves a PyTorch dataloader. Parameters for the dataloader can be\n",
        "        found in the data_config module\n",
        "\n",
        "    Args:\n",
        "      algo (str): Meta learning algorithm from [maml, fomaml,\n",
        "       meta-sgd, reptile]\n",
        "      meta_split (str, optional): 'train' or 'test' split of the data.\n",
        "       Defaults to 'train'.\n",
        "\n",
        "    Returns:\n",
        "      DataLoader: An instance of DataLoader class.\n",
        "    \"\"\"\n",
        "    batch_size = data_config['batch_size']\n",
        "    num_workers = data_config['num_workers']\n",
        "    dataset = get_dataset(algo, meta_split, test_samples=test_samples)\n",
        "    shuffle = meta_split == 'train'\n",
        "    return DataLoader(dataset,\n",
        "                    batch_size,\n",
        "                    shuffle=shuffle,\n",
        "                    num_workers=num_workers)\n",
        "\n",
        "\n",
        "def split_batch(\n",
        "    batch: Tensor,\n",
        "    algo: str,\n",
        "    meta_split: str) -> Tuple[Tuple[Tensor, Tensor], Tuple[Tensor, Tensor]]:\n",
        "    \"\"\"Splits a batch of data into image and mask pairs from the support\n",
        "        set and the query set.\n",
        "\n",
        "    Args:\n",
        "      batch (Tensor): A torch.Tensor returned by the dataloader\n",
        "      algo (str): Meta learning algorithm from [maml, fomaml,\n",
        "       meta-sgd, reptile]\n",
        "\n",
        "    Returns:\n",
        "      [[Tensor, Tensor], [Tensor, Tensor]: Four Tensors paired into two tuples.\n",
        "      (support_images, support_targets), (query_images, query_targets)\n",
        "    \"\"\"\n",
        "    n_ways = data_config[algo]['n_ways']\n",
        "    train_shots = data_config[algo]['train_shots']\n",
        "    shuffle = meta_split == 'train'\n",
        "    return FSSDataset.break_batch(batch, train_shots, n_ways, shuffle)\n"
      ],
      "execution_count": null,
      "outputs": []
    },
    {
      "cell_type": "markdown",
      "metadata": {
        "id": "5AzYmnmZ7I_k"
      },
      "source": [
        "## Configuring the AdamW optimizer for the learner and the meta learner with the appropriate schedulers"
      ]
    },
    {
      "cell_type": "code",
      "metadata": {
        "id": "jegvejnc1NuC",
        "cellView": "form"
      },
      "source": [
        "#@title\n",
        "\n",
        "class DifferentiableAdamW(DifferentiableOptimizer):\n",
        "    r\"\"\"A differentiable version of the Adam optimizer.\n",
        "\n",
        "        This optimizer creates a gradient tape as it updates parameters.\"\"\"\n",
        "\n",
        "    def _update(self, grouped_grads: _GroupedGradsType, **kwargs) -> None:\n",
        "    \n",
        "        zipped = zip(self.param_groups, grouped_grads)\n",
        "        for group_idx, (group, grads) in enumerate(zipped):\n",
        "            amsgrad = group['amsgrad']\n",
        "            beta1, beta2 = group['betas']\n",
        "            weight_decay = group['weight_decay']\n",
        "\n",
        "            for p_idx, (p, g) in enumerate(zip(group['params'], grads)):\n",
        "\n",
        "                if g is None:\n",
        "                    continue\n",
        "\n",
        "                # Perform stepweight decay\n",
        "                if group['lr']==1.0:\n",
        "                    p = p * (1 - self.task_lr[p_idx] * weight_decay)\n",
        "                else:\n",
        "                    p = p * (1 - group['lr'] * weight_decay)\n",
        "\n",
        "                if g.is_sparse:\n",
        "                    raise RuntimeError('AdamW does not support sparse gradients')\n",
        "\n",
        "                state = self.state[group_idx][p_idx]\n",
        "\n",
        "                # State initialization\n",
        "                if len(state) == 0:\n",
        "                    state['step'] = 0\n",
        "                    # Exponential moving average of gradient values\n",
        "                    state['exp_avg'] = _torch.zeros_like(p.data)\n",
        "                    # Exponential moving average of squared gradient values\n",
        "                    state['exp_avg_sq'] = _torch.zeros_like(p.data)\n",
        "                    if amsgrad:\n",
        "                        # Maintains max of all exp. mov. avg. of sq. grad. vals\n",
        "                        state['max_exp_avg_sq'] = _torch.zeros_like(p.data)\n",
        "\n",
        "                exp_avg, exp_avg_sq = state['exp_avg'], state['exp_avg_sq']\n",
        "                if amsgrad:\n",
        "                    max_exp_avg_sq = state['max_exp_avg_sq']\n",
        "\n",
        "                state['step'] += 1\n",
        "                bias_correction1 = 1 - beta1**state['step']\n",
        "                bias_correction2 = 1 - beta2**state['step']\n",
        "\n",
        "                # Decay the first and second moment running average coefficient\n",
        "                state['exp_avg'] = exp_avg = (exp_avg * beta1) + (1 - beta1) * g\n",
        "                state['exp_avg_sq'] = exp_avg_sq = ((exp_avg_sq * beta2) +\n",
        "                                                    (1 - beta2) * g * g)\n",
        "\n",
        "                # Deal with stability issues\n",
        "                mask = exp_avg_sq == 0.\n",
        "                _maybe_mask(exp_avg_sq, mask)\n",
        "\n",
        "                if amsgrad:\n",
        "                    # Maintains the max of all 2nd moment running avg. till now\n",
        "                    state['max_exp_avg_sq'] = max_exp_avg_sq = _torch.max(\n",
        "                        max_exp_avg_sq, exp_avg_sq)\n",
        "                    # Use the max. for normalizing running avg. of gradient\n",
        "                    denom = _add(max_exp_avg_sq.sqrt() / _math.sqrt(bias_correction2), group['eps'])\n",
        "                else:\n",
        "                    denom = _add(exp_avg_sq.sqrt() / _math.sqrt(bias_correction2), group['eps'])\n",
        "\n",
        "                if group['lr']==1.0:\n",
        "                    step_size = (self.task_lr[p_idx]  / bias_correction1)\n",
        "                else:\n",
        "                    step_size = (group['lr']  / bias_correction1)\n",
        "\n",
        "                group['params'][p_idx] = _addcdiv(p, -step_size, exp_avg, denom)\n",
        "\n",
        "    def store_task_lr(self,task_lr):\n",
        "        self.task_lr = task_lr\n",
        "\n",
        "        \n",
        "\n",
        "register_optim(AdamW, DifferentiableAdamW)\n",
        "\n",
        "\"\"\"Utility functions for retrieving optimizers\"\"\"\n",
        "\n",
        "\n",
        "\n",
        "def get_optimizers(\n",
        "    module: Module,\n",
        "    algo: str) -> Any:\n",
        "    meta_lr = train_config[algo]['meta_lr']\n",
        "    learner_lr = train_config[algo]['learner_lr']\n",
        "    n_epochs = train_config['n_epochs']\n",
        "    if algo == 'meta-sgd':\n",
        "        meta_optimizer = optim.AdamW(list(module.parameters())+list(module.task_lr.values()), \n",
        "                                     meta_lr)\n",
        "        learner_optimizer = optim.AdamW(module.parameters(), 1.0)\n",
        "    else:\n",
        "        meta_optimizer = optim.AdamW(module.parameters(), meta_lr)\n",
        "        learner_optimizer = optim.AdamW(module.parameters(), learner_lr)\n",
        "    \n",
        "    if algo in ['maml', 'fomaml', 'meta-sgd']:\n",
        "        patience = train_config[algo]['halve_lr_every']\n",
        "        lr_red = train_config[algo]['lr_reduction_factor']\n",
        "        metric_to_watch = train_config[algo]['metric_to_watch']\n",
        "        scheduler = optim.lr_scheduler.ReduceLROnPlateau(meta_optimizer, 'max',\n",
        "                                                        lr_red, patience)\n",
        "        return {\n",
        "            'meta_optimizer': meta_optimizer,\n",
        "            'learner_optimizer': learner_optimizer,\n",
        "            'scheduler': scheduler,\n",
        "            'monitor': metric_to_watch\n",
        "        }\n",
        "\n",
        "    else:\n",
        "        final_meta_lr = train_config[algo]['final_meta_lr']\n",
        "        metric_to_watch = train_config[algo]['metric_to_watch']\n",
        "        slope = (meta_lr - final_meta_lr) / n_epochs\n",
        "        scheduler = optim.lr_scheduler.LambdaLR(meta_optimizer, lambda epoch:\n",
        "                                                (epoch + 1) * slope)\n",
        "        return {\n",
        "            'meta_optimizer': meta_optimizer,\n",
        "            'learner_optimizer': learner_optimizer,\n",
        "            'scheduler': scheduler,\n",
        "            'monitor': metric_to_watch\n",
        "        }\n"
      ],
      "execution_count": null,
      "outputs": []
    },
    {
      "cell_type": "markdown",
      "metadata": {
        "id": "Obtq29hc7P9N"
      },
      "source": [
        "## Defining the model architecture in PyTorch"
      ]
    },
    {
      "cell_type": "code",
      "metadata": {
        "id": "ahZGImEG14F9",
        "cellView": "form"
      },
      "source": [
        "#@title\n",
        "\"\"\" Residual components of the network\"\"\"\n",
        "\n",
        "\n",
        "class Resblock(nn.Module):\n",
        "\n",
        "    def __init__(self, block_id: int):\n",
        "        super().__init__()\n",
        "        self.block_id = 'resblock%d' % block_id\n",
        "\n",
        "        self.add_module('conv1',\n",
        "                        nn.Conv2d(**model_config['resblocks'][self.block_id]['conv1']))\n",
        "        self.add_module('conv2',\n",
        "                        nn.Conv2d(**(model_config['resblocks'][self.block_id]['conv2'])))\n",
        "        self.add_module('reducer', nn.Conv2d(**model_config['reducer'][self.block_id]))\n",
        "\n",
        "    def forward(self, x: Tensor):\n",
        "        x_init = x\n",
        "\n",
        "        for i, block in enumerate(self.children()):\n",
        "            if i == 2:\n",
        "                break\n",
        "            x = block(x)\n",
        "\n",
        "        return x + block(x_init)\n",
        "\n",
        "\"\"\"Implements the model described in arxiv.2008.00247\"\"\"\n",
        "\n",
        "\n",
        "\n",
        "\"\"\"MetaDRN architectured described in arxiv.2008.00247\"\"\"\n",
        "\n",
        "class MetaDRN(nn.Module):\n",
        "    def __init__(self, algo='maml', init_inner_learner_lr=1e-3):\n",
        "        super().__init__()\n",
        "        # Definet the network\n",
        "        self.head = nn.Sequential()\n",
        "        self.head.add_module(\"conv1\", nn.Conv2d(**model_config[\"head\"][\"conv1\"]))\n",
        "        self.head.add_module(\"bn1\", nn.BatchNorm2d(**model_config[\"head\"][\"bn1\"]))\n",
        "        self.head.add_module(\"lr1\", nn.LeakyReLU())\n",
        "        self.head.add_module(\"conv2\", nn.Conv2d(**model_config[\"head\"][\"conv2\"]))\n",
        "        self.head.add_module(\"bn2\", nn.BatchNorm2d(**model_config[\"head\"][\"bn2\"]))\n",
        "        self.head.add_module(\"lr2\", nn.LeakyReLU())\n",
        "\n",
        "        self.resblock1 = nn.Sequential()\n",
        "        self.resblock1.add_module(\"resblock1\", Resblock(1))\n",
        "        \n",
        "        self.resblock2 = nn.Sequential()\n",
        "        self.resblock2.add_module(\"resblock2\", Resblock(2))\n",
        "        \n",
        "        self.resblock3 = nn.Sequential()\n",
        "        self.resblock3.add_module(\"resblock3\", Resblock(3))\n",
        "\n",
        "        self.degrid = nn.Sequential()\n",
        "        self.degrid.add_module(\"conv1\", nn.Conv2d(**model_config[\"degrid\"][\"conv1\"]))\n",
        "        self.degrid.add_module(\"conv2\", nn.Conv2d(**model_config[\"degrid\"][\"conv2\"]))\n",
        "\n",
        "        self.upsample = nn.Sequential(\n",
        "            OrderedDict([(\"conv1\", nn.Conv2d(**model_config[\"upsample\"][\"conv\"])),\n",
        "                         (\"pixel_shuffle\",\n",
        "                          nn.PixelShuffle(**model_config[\"upsample\"][\"pixel_shuffle\"]))]))\n",
        "        if algo == \"meta-sgd\":\n",
        "            self.task_lr = OrderedDict()\n",
        "            self.init_inner_learner_lr = init_inner_learner_lr\n",
        "\n",
        "    def forward(self, x):\n",
        "        return self.upsample(self.degrid(self.resblock3(self.resblock2(self.resblock1(self.head(x))))))\n",
        "\n",
        "    def define_task_lr_params(self):\n",
        "        for key, val in self.named_parameters():\n",
        "            self.task_lr[key] = nn.Parameter(\n",
        "                self.init_inner_learner_lr * torch.ones_like(val, requires_grad=True).cuda())\n",
        "\n"
      ],
      "execution_count": null,
      "outputs": []
    },
    {
      "cell_type": "markdown",
      "metadata": {
        "id": "btpmpj8Iodvj"
      },
      "source": [
        "## Model output visualization helper functions"
      ]
    },
    {
      "cell_type": "code",
      "metadata": {
        "id": "VjIxG2F3ovVd",
        "cellView": "form"
      },
      "source": [
        "#@title\n",
        "# %matplotlib inline\n",
        "class UnNormalize(object):\n",
        "    def __init__(self, mean, std):\n",
        "        self.mean = mean\n",
        "        self.std = std\n",
        "\n",
        "    def __call__(self, tensor):\n",
        "        \"\"\"\n",
        "        Args:\n",
        "            tensor (Tensor): Tensor image of size (C, H, W) to be normalized.\n",
        "        Returns:\n",
        "            Tensor: Normalized image.\n",
        "        \"\"\"\n",
        "        for t, m, s in zip(tensor, self.mean, self.std):\n",
        "            t.mul_(s).add_(m)\n",
        "            # The normalize code -> t.sub_(m).div_(s)\n",
        "        return tensor\n",
        "\n",
        "unorm = UnNormalize(mean=data_config['normalize_mean'], std=data_config['normalize_std'])\n",
        "\n",
        "activation = {}\n",
        "\n",
        "def get_activation(name):\n",
        "    def hook(model, input, output):\n",
        "        activation[name] = output.detach()\n",
        "    return hook\n",
        "\n",
        "def max_meanFeature(x):\n",
        "    return x[torch.arange(x.size(0)),\n",
        "             torch.argmax(torch.mean(x, dim=(2,3)), dim=1),\n",
        "             :,\n",
        "             :].view(-1,1,x.size(2),x.size(3))\n",
        "\n",
        "def get_matplotFig(spt_x, spt_y, qry_x, qry_y):\n",
        "    # plt.ioff()\n",
        "    nrows = spt_x.shape[0]\n",
        "    ncols = 2\n",
        "    fig, axs = plt.subplots(nrows=nrows, ncols=ncols, figsize=(2*ncols,2*nrows), gridspec_kw = {'wspace':0, 'hspace':0})\n",
        "    xlabels = [\"Support\",\"MAML\"]\n",
        "    for i in range(nrows):\n",
        "        for j in range(ncols):\n",
        "            if j==0:\n",
        "                img = spt_x[i,:,:,:]\n",
        "                musk = spt_y[i,:,:,:]\n",
        "            else:\n",
        "                img = qry_x[i,:,:,:]\n",
        "                musk = qry_y[i,:,:,:]\n",
        "            img = img.cpu()\n",
        "            img = unorm(img)\n",
        "            img = img.permute(1,2,0)\n",
        "            musk = musk.cpu()\n",
        "            musk = musk.permute(1,2,0)\n",
        "            musk_with_alpha = np.zeros(shape=(musk.shape[0], musk.shape[1], 4),dtype=np.float)\n",
        "            musk_with_alpha[:,:,1-j] = musk[:,:,0]\n",
        "            musk_with_alpha[:,:,3] = musk[:,:,0]/2.5\n",
        "\n",
        "            axs[i][j].imshow(img)\n",
        "            axs[i][j].imshow(musk_with_alpha)\n",
        "            # axs[i][j].set_axis_off()\n",
        "            axs[i][j].set_xticks([])\n",
        "            axs[i][j].set_yticks([])\n",
        "            if i == nrows-1:\n",
        "                axs[i][j].set_xlabel(xlabels[j],size=16)\n",
        "            \n",
        "    return fig\n",
        "\n",
        "def get_matplotFig_with_out_dict(spt_x, spt_y, out_dict):\n",
        "    nrows = spt_x.shape[0]\n",
        "    ncols = 1 + len(out_dict)\n",
        "    fig, axs = plt.subplots(nrows=nrows, ncols=ncols, figsize=(2*ncols,2*nrows), gridspec_kw = {'wspace':0, 'hspace':0})\n",
        "    keys = list(out_dict.keys())\n",
        "    xlabels = [\"Support\"] + keys\n",
        "    for i in range(nrows):\n",
        "        for j in range(ncols):\n",
        "            if j==0:\n",
        "                img = spt_x[i,:,:,:]\n",
        "                musk = spt_y[i,:,:,:]\n",
        "            else:\n",
        "                img = out_dict[keys[j-1]][0][i,:,:,:]\n",
        "                musk = out_dict[keys[j-1]][1][i,:,:,:]\n",
        "            img = img.cpu()\n",
        "            img = unorm(img)\n",
        "            img = img.permute(1,2,0)\n",
        "            musk = musk.cpu()\n",
        "            musk = musk.permute(1,2,0)\n",
        "            musk_with_alpha = np.zeros(shape=(musk.shape[0], musk.shape[1], 4),dtype=np.float)\n",
        "            musk_with_alpha[:,:, 1 if j==0 else 0] = musk[:,:,0]\n",
        "            musk_with_alpha[:,:,3] = musk[:,:,0]/2.5\n",
        "\n",
        "            axs[i][j].imshow(img)\n",
        "            axs[i][j].imshow(musk_with_alpha)\n",
        "            axs[i][j].set_xticks([])\n",
        "            axs[i][j].set_yticks([])\n",
        "            if i == nrows-1:\n",
        "                axs[i][j].set_xlabel(xlabels[j],size=16)\n",
        "            \n",
        "    return fig\n",
        "\n",
        "def get_activationFig(spt_x, spt_y, qry_x, out_y, activation):\n",
        "    nrows = spt_x.size(0)\n",
        "    ncols = 8\n",
        "    fig, axs = plt.subplots(nrows=nrows, ncols=ncols, figsize=(2*ncols,2*nrows), gridspec_kw = {'wspace':0, 'hspace':0})\n",
        "    keys = list(activation.keys())\n",
        "    activation = {key:max_meanFeature(activation[key]) for key in keys}\n",
        "    xlabels = [\"Support\",\"Image\",\"Head\",\"ResBlock-1\",\"ResBlock-2\",\"ResBlock-3\",\"Degrid\",\"Final output\"]\n",
        "    for i in range(nrows):\n",
        "        for j in range(ncols):\n",
        "            if j==0:\n",
        "                img = spt_x[i,:,:,:]\n",
        "                musk = spt_y[i,:,:,:]\n",
        "                img = unorm(img)\n",
        "                musk = musk.cpu()\n",
        "            elif j==1:\n",
        "                img = qry_x[i,:,:,:]\n",
        "                img = unorm(img)\n",
        "            elif j==ncols-1:\n",
        "                img = out_y[i,:,:,:]\n",
        "            else:\n",
        "                img = activation[keys[j-2]]\n",
        "                img = img[i,:,:,:]\n",
        "                img = (img - img.mean())/img.std()\n",
        "            \n",
        "            img = img.permute(1,2,0)\n",
        "            img = img.cpu()\n",
        "            if 0<=j<=1:\n",
        "                axs[i][j].imshow(img)\n",
        "            else:\n",
        "                axs[i][j].imshow(img.squeeze(),cmap='gray')\n",
        "            if j == 0:\n",
        "                musk = musk.permute(1,2,0)\n",
        "                musk_with_alpha = np.zeros(shape=(musk.shape[0], musk.shape[1], 4),dtype=np.float)\n",
        "                musk_with_alpha[:,:,1-j] = musk[:,:,0]\n",
        "                musk_with_alpha[:,:,3] = musk[:,:,0]/2.5\n",
        "                axs[i][j].imshow(musk_with_alpha)\n",
        "            # axs[i][j].set_axis_off()\n",
        "            axs[i][j].set_xticks([])\n",
        "            axs[i][j].set_yticks([])\n",
        "            if i == nrows-1:\n",
        "                axs[i][j].set_xlabel(xlabels[j],size=16)\n",
        "            \n",
        "    return fig\n",
        "    \n",
        "def add_hook_to_Model(net):\n",
        "    net.head.register_forward_hook(get_activation('head'))\n",
        "    net.resblock1.register_forward_hook(get_activation('resblock1'))\n",
        "    net.resblock2.register_forward_hook(get_activation('resblock2'))\n",
        "    net.resblock3.register_forward_hook(get_activation('resblock3'))\n",
        "    net.degrid.register_forward_hook(get_activation('degrid'))\n"
      ],
      "execution_count": null,
      "outputs": []
    },
    {
      "cell_type": "markdown",
      "metadata": {
        "id": "kqZg4for7eKn"
      },
      "source": [
        "## Model training loop"
      ]
    },
    {
      "cell_type": "code",
      "metadata": {
        "id": "Clsl9eAt2c3B",
        "cellView": "form"
      },
      "source": [
        "#@title\n",
        "def train(net, loader, epoch=0, writer=None):\n",
        "    net.train()\n",
        "    qry_losses = []\n",
        "    qry_ious = []\n",
        "    pbar = tqdm(loader)\n",
        "    \n",
        "    for batch_idx, batch in enumerate(pbar):\n",
        "        (spt_x, spt_y), (qry_x, qry_y ) = split_batch(batch, algo, 'train')\n",
        "        \n",
        "        spt_x, spt_y = spt_x.view(-1, *spt_x.shape[3:]).cuda(), spt_y.view(\n",
        "           -1, *spt_y.shape[3:]).cuda()\n",
        "        qry_x, qry_y = qry_x.view(-1, *qry_x.shape[3:]).cuda(), qry_y.view(\n",
        "           -1, *qry_y.shape[3:]).cuda()\n",
        "\n",
        "        \n",
        "        if algo in ['maml', 'fomaml', 'meta-sgd']:\n",
        "            meta_optim.zero_grad()\n",
        "            with higher.innerloop_ctx(net, learner_optim, \n",
        "                                        copy_initial_weights=False, \n",
        "                                        track_higher_grads=(algo in ['maml','meta-sgd'])) as (fnet, diffoptim):\n",
        "                for i in range(train_config[algo]['train_steps']):\n",
        "                    pred = fnet(spt_x)\n",
        "                    loss = F.cross_entropy(pred, spt_y.squeeze().long())\n",
        "                    if i==0 and algo == 'meta-sgd':\n",
        "                        diffoptim.store_task_lr(list(net.task_lr.values()))\n",
        "                    diffoptim.step(loss)\n",
        "\n",
        "                qry_logits = fnet(qry_x)\n",
        "                qry_loss = F.cross_entropy(qry_logits, qry_y.squeeze().long())\n",
        "                \n",
        "                qry_losses.append(qry_loss.detach())\n",
        "                with torch.no_grad():\n",
        "                    qry_iou = iou(torch.argmax(qry_logits, dim=1), qry_y.squeeze().long())\n",
        "                    qry_ious.append(qry_iou)\n",
        "                qry_loss.backward()\n",
        "            meta_optim.step()\n",
        "            lr_scheduler.step(qry_losses[-1])\n",
        "            pbar.set_description(\"Epoch: %d, training Loss: %.2f, mIoU: %.2f, time: %s\" %\n",
        "                                (epoch, qry_losses[-1], qry_ious[-1], time.strftime('%X')))\n",
        "        elif algo == 'reptile':\n",
        "            weights_before = deepcopy(net.state_dict())\n",
        "            for _ in range(train_config[algo]['train_steps']):\n",
        "                    pred = net(spt_x)\n",
        "                    loss = F.cross_entropy(pred, spt_y.squeeze().long())\n",
        "                    net.zero_grad()\n",
        "                    loss.backward()\n",
        "                    learner_optim.step()\n",
        "            \n",
        "            with torch.no_grad():\n",
        "                qry_logits = net(qry_x)\n",
        "                qry_loss = F.cross_entropy(qry_logits, qry_y.squeeze().long())\n",
        "                qry_losses.append(qry_loss.detach())\n",
        "                qry_iou = iou(torch.argmax(qry_logits, dim=1), qry_y.squeeze().long())\n",
        "                qry_ious.append(qry_iou)\n",
        "                pbar.set_description(\"Epoch: %d, training Loss: %.2f, mIoU: %.2f, time: %s\" %\n",
        "                                (epoch, qry_losses[-1], qry_iou, time.strftime('%X')))\n",
        "            net.zero_grad()\n",
        "            weights_after = deepcopy(net.state_dict())\n",
        "            net.load_state_dict(weights_before)\n",
        "            for name, param in net.named_parameters():\n",
        "                param.grad.data = weights_before[name].data - weights_after[name].data\n",
        "            meta_optim.step()\n",
        "\n",
        "            \n",
        "    if algo == 'reptile':\n",
        "        lr_scheduler.step()\n",
        "    \n",
        "\n",
        "    qry_loss_epoch = sum(qry_losses) / len(qry_losses)\n",
        "    qry_iou_epoch= sum(qry_ious) / len(qry_ious)\n",
        "    print(\"loss: {} iou: {}\".format(qry_loss_epoch, qry_iou_epoch))\n",
        "    if writer is not None:\n",
        "        writer.add_scalar('training loss', qry_loss_epoch, epoch)\n",
        "        writer.add_scalar('training mIoU', qry_iou_epoch, epoch)\n",
        "\n"
      ],
      "execution_count": null,
      "outputs": []
    },
    {
      "cell_type": "markdown",
      "metadata": {
        "id": "WG8LSbmWi1EA"
      },
      "source": [
        "## Model testing loop"
      ]
    },
    {
      "cell_type": "code",
      "metadata": {
        "id": "zDlvf48Fi61j",
        "cellView": "form"
      },
      "source": [
        "#@title\n",
        "def test(net, loader, epoch=0, writer=None):\n",
        "    net.train()\n",
        "    qry_losses = []\n",
        "    qry_ious = []\n",
        "    pbar = tqdm(loader)\n",
        "    \n",
        "    for batch_idx, batch in enumerate(pbar):\n",
        "        (spt_x, spt_y), (qry_x, qry_y ) = split_batch(batch, algo, 'test')\n",
        "       \n",
        "        \n",
        "        spt_x, spt_y = spt_x.view(-1, *spt_x.shape[3:]).cuda(), spt_y.view(\n",
        "           -1, *spt_y.shape[3:]).cuda()\n",
        "        qry_x, qry_y = qry_x.view(-1, *qry_x.shape[3:]).cuda(), qry_y.view(\n",
        "           -1, *qry_y.shape[3:]).cuda()\n",
        "\n",
        "        \n",
        "        if algo in ['maml', 'fomaml', 'meta-sgd']:\n",
        "            \n",
        "            with higher.innerloop_ctx(net, learner_optim, \n",
        "                                        copy_initial_weights=True, \n",
        "                                        track_higher_grads=False) as (fnet, diffoptim):\n",
        "                for i in range(train_config[algo]['train_steps']):\n",
        "                    pred = fnet(spt_x)\n",
        "                    loss = F.cross_entropy(pred, spt_y.squeeze().long())\n",
        "                    if i==0 and algo == 'meta-sgd':\n",
        "                        diffoptim.store_task_lr(list(net.task_lr.values()))\n",
        "                    diffoptim.step(loss)\n",
        "                with torch.no_grad():\n",
        "                    add_hook_to_Model(fnet)\n",
        "                    qry_logits = fnet(qry_x)\n",
        "                    qry_loss = F.cross_entropy(qry_logits, qry_y.squeeze().long())\n",
        "                    qry_losses.append(qry_loss.detach())\n",
        "                    qry_iou = iou(torch.argmax(qry_logits, dim=1), qry_y.squeeze().long())\n",
        "                    qry_ious.append(qry_iou)\n",
        "                \n",
        "                    pbar.set_description(\"Epoch: %d, testing Loss: %.2f, mIoU: %.2f, time: %s\" %\n",
        "                                (epoch, qry_losses[-1], qry_ious[-1], time.strftime('%X')))\n",
        "                    out_y = torch.argmax(qry_logits, dim=1, keepdim=True)\n",
        "                    act_fig = get_activationFig(spt_x.clone(), spt_y.clone(), qry_x.clone(), out_y.clone(), activation)\n",
        "                    fig = get_matplotFig(spt_x.clone(), spt_y.clone(), qry_x.clone(), out_y.clone())\n",
        "                    \n",
        "                    if writer is not None:\n",
        "                        writer.add_figure(\"testing_images\", fig, batch_idx)\n",
        "                        writer.add_figure(\"testing_activation_images\", act_fig, batch_idx)\n",
        "        elif algo == 'reptile':\n",
        "            weights_before = deepcopy(net.state_dict())\n",
        "            for _ in range(train_config[algo]['train_steps']):\n",
        "                    pred = net(spt_x)\n",
        "                    loss = F.cross_entropy(pred, spt_y.squeeze().long())\n",
        "                    net.zero_grad()\n",
        "                    loss.backward()\n",
        "                    learner_optim.step()\n",
        "            \n",
        "            with torch.no_grad():\n",
        "                add_hook_to_Model(net)\n",
        "                qry_logits = net(qry_x)\n",
        "                qry_loss = F.cross_entropy(qry_logits, qry_y.squeeze().long())\n",
        "                qry_losses.append(qry_loss.detach())\n",
        "                qry_iou = iou(torch.argmax(qry_logits, dim=1), qry_y.squeeze().long())\n",
        "                qry_ious.append(qry_iou)\n",
        "                pbar.set_description(\"Epoch: %d, testing Loss: %.2f, mIoU: %.2f, time: %s\" %\n",
        "                                (epoch, qry_losses[-1], qry_iou, time.strftime('%X')))\n",
        "                out_y = torch.argmax(qry_logits, dim=1, keepdim=True)\n",
        "                act_fig = get_activationFig(spt_x.clone(), spt_y.clone(), qry_x.clone(), out_y.clone(), activation)\n",
        "                fig = get_matplotFig(spt_x.clone(), spt_y.clone(), qry_x.clone(), out_y.clone())\n",
        "                \n",
        "                if writer is not None:\n",
        "                    writer.add_figure(\"testing_images\", fig, batch_idx)\n",
        "                    writer.add_figure(\"testing_activation_images\", act_fig, batch_idx)\n",
        "\n",
        "            net.load_state_dict(weights_before)\n",
        "\n",
        "    qry_loss_epoch = sum(qry_losses) / len(qry_losses)\n",
        "    qry_iou_epoch= sum(qry_ious) / len(qry_ious)\n",
        "    print(\"loss: {} iou: {}\".format(qry_loss_epoch, qry_iou_epoch))\n",
        "    if writer is not None:\n",
        "        writer.add_scalar('testing loss', qry_loss_epoch, epoch)\n",
        "        writer.add_scalar('testing mIoU', qry_iou_epoch, epoch)\n",
        "            \n",
        "\n"
      ],
      "execution_count": null,
      "outputs": []
    },
    {
      "cell_type": "markdown",
      "metadata": {
        "id": "oF52H_eapZcP"
      },
      "source": [
        "## Parameter Initialization"
      ]
    },
    {
      "cell_type": "code",
      "metadata": {
        "id": "lrzq5s-QpWl6"
      },
      "source": [
        "#@title\n",
        "# seeding\n",
        "seed = 1971\n",
        "torch.manual_seed(seed)\n",
        "if torch.cuda.is_available():\n",
        "    torch.cuda.manual_seed_all(seed)\n",
        "np.random.seed(seed)\n",
        "\n",
        "# hyperparams\n",
        "algo = 'meta-sgd'\n",
        "n_epochs = train_config['n_epochs']\n",
        "learner_lr = train_config[algo]['learner_lr']\n",
        "\n",
        "# get dataloader\n",
        "train_loader = get_dataloader(algo, 'train')\n",
        "val_loader = get_dataloader(algo, 'val')\n",
        "test_loader = get_dataloader(algo, 'test')\n",
        "# get model\n",
        "if True:\n",
        "    net = MetaDRN(algo=algo)\n",
        "    if algo == 'meta-sgd':\n",
        "        net.define_task_lr_params()\n",
        "else:\n",
        "    net = torch.load(\"/content/drive/MyDrive/Colab Notebooks/models/meta_drn_maml_9.pt\")\n",
        "    net.eval()\n",
        "net.cuda()\n",
        "optimizers = get_optimizers(net, algo)\n",
        "learner_optim = optimizers['learner_optimizer']\n",
        "meta_optim = optimizers['meta_optimizer']\n",
        "lr_scheduler = optimizers['scheduler']\n",
        "metric_to_watch = optimizers['monitor']\n",
        "# log data for tensorboard visualization\n",
        "logs = vis_config['tensorboard']['logdir']+algo\n",
        "writer = SummaryWriter(logs)"
      ],
      "execution_count": null,
      "outputs": []
    },
    {
      "cell_type": "markdown",
      "metadata": {
        "id": "JDZ5yMLMp1uq"
      },
      "source": [
        "## Load Tensorboard for visualization"
      ]
    },
    {
      "cell_type": "code",
      "metadata": {
        "id": "-Ur-7KPapsMm"
      },
      "source": [
        "%tensorboard --logdir \"logsmaml\""
      ],
      "execution_count": null,
      "outputs": []
    },
    {
      "cell_type": "markdown",
      "metadata": {
        "id": "zd_2wMNQqU15"
      },
      "source": [
        "## Start Training"
      ]
    },
    {
      "cell_type": "code",
      "metadata": {
        "id": "9PgpFAQ5qP9L",
        "colab": {
          "base_uri": "https://localhost:8080/"
        },
        "outputId": "35939d1f-7c04-4e93-9324-3ff0a28af53b"
      },
      "source": [
        "#@title\n",
        "test_samples = ['pizza','eagle','ferrari911','american_alligator','bat']\n",
        "new_dataloader = get_dataloader(algo,'test',test_samples=test_samples)\n",
        "if __name__ == '__main__':\n",
        "    for e in range(50):#n_epochs)\n",
        "        train(net, new_dataloader, epoch=e, writer=writer)\n",
        "        print(\"completed epoch {}\".format(e))\n",
        "        # if e%10==9:\n",
        "        #     torch.save(net,\"/content/drive/MyDrive/Colab Notebooks/models/meta_drn_\"+algo+'_'+str(e)+'.pt')\n",
        "       "
      ],
      "execution_count": null,
      "outputs": [
        {
          "output_type": "stream",
          "text": [
            "Epoch: 0, training Loss: 395.40, mIoU: 0.42, time: 02:09:00: 100%|██████████| 236/236 [06:48<00:00,  1.73s/it]\n",
            "  0%|          | 0/236 [00:00<?, ?it/s]"
          ],
          "name": "stderr"
        },
        {
          "output_type": "stream",
          "text": [
            "loss: 2640.80126953125 iou: 0.46646514534950256\n",
            "completed epoch 0\n"
          ],
          "name": "stdout"
        },
        {
          "output_type": "stream",
          "text": [
            "Epoch: 1, training Loss: 427.43, mIoU: 0.52, time: 02:15:47: 100%|██████████| 236/236 [06:47<00:00,  1.73s/it]\n",
            "  0%|          | 0/236 [00:00<?, ?it/s]"
          ],
          "name": "stderr"
        },
        {
          "output_type": "stream",
          "text": [
            "loss: 317.99395751953125 iou: 0.5238689184188843\n",
            "completed epoch 1\n"
          ],
          "name": "stdout"
        },
        {
          "output_type": "stream",
          "text": [
            "Epoch: 2, training Loss: 457.63, mIoU: 0.48, time: 02:22:34: 100%|██████████| 236/236 [06:46<00:00,  1.72s/it]\n",
            "  0%|          | 0/236 [00:00<?, ?it/s]"
          ],
          "name": "stderr"
        },
        {
          "output_type": "stream",
          "text": [
            "loss: 315.6031188964844 iou: 0.5215963125228882\n",
            "completed epoch 2\n"
          ],
          "name": "stdout"
        },
        {
          "output_type": "stream",
          "text": [
            "Epoch: 3, training Loss: 170.01, mIoU: 0.56, time: 02:29:22: 100%|██████████| 236/236 [06:47<00:00,  1.73s/it]\n",
            "  0%|          | 0/236 [00:00<?, ?it/s]"
          ],
          "name": "stderr"
        },
        {
          "output_type": "stream",
          "text": [
            "loss: 306.13470458984375 iou: 0.5207889080047607\n",
            "completed epoch 3\n"
          ],
          "name": "stdout"
        },
        {
          "output_type": "stream",
          "text": [
            "Epoch: 4, training Loss: 265.78, mIoU: 0.57, time: 02:36:09: 100%|██████████| 236/236 [06:47<00:00,  1.73s/it]\n",
            "  0%|          | 0/236 [00:00<?, ?it/s]"
          ],
          "name": "stderr"
        },
        {
          "output_type": "stream",
          "text": [
            "loss: 294.0831604003906 iou: 0.5288760662078857\n",
            "completed epoch 4\n"
          ],
          "name": "stdout"
        },
        {
          "output_type": "stream",
          "text": [
            "Epoch: 5, training Loss: 263.15, mIoU: 0.59, time: 02:42:57: 100%|██████████| 236/236 [06:47<00:00,  1.73s/it]\n",
            "  0%|          | 0/236 [00:00<?, ?it/s]"
          ],
          "name": "stderr"
        },
        {
          "output_type": "stream",
          "text": [
            "loss: 285.6827087402344 iou: 0.5238978266716003\n",
            "completed epoch 5\n"
          ],
          "name": "stdout"
        },
        {
          "output_type": "stream",
          "text": [
            "Epoch: 6, training Loss: 237.28, mIoU: 0.54, time: 02:49:44: 100%|██████████| 236/236 [06:47<00:00,  1.72s/it]\n",
            "  0%|          | 0/236 [00:00<?, ?it/s]"
          ],
          "name": "stderr"
        },
        {
          "output_type": "stream",
          "text": [
            "loss: 289.6773376464844 iou: 0.519018828868866\n",
            "completed epoch 6\n"
          ],
          "name": "stdout"
        },
        {
          "output_type": "stream",
          "text": [
            "Epoch: 7, training Loss: 164.10, mIoU: 0.63, time: 02:56:32: 100%|██████████| 236/236 [06:47<00:00,  1.73s/it]\n",
            "  0%|          | 0/236 [00:00<?, ?it/s]"
          ],
          "name": "stderr"
        },
        {
          "output_type": "stream",
          "text": [
            "loss: 279.3896789550781 iou: 0.5273248553276062\n",
            "completed epoch 7\n"
          ],
          "name": "stdout"
        },
        {
          "output_type": "stream",
          "text": [
            "Epoch: 8, training Loss: 228.31, mIoU: 0.57, time: 03:03:19: 100%|██████████| 236/236 [06:47<00:00,  1.73s/it]\n",
            "  0%|          | 0/236 [00:00<?, ?it/s]"
          ],
          "name": "stderr"
        },
        {
          "output_type": "stream",
          "text": [
            "loss: 277.72198486328125 iou: 0.524922788143158\n",
            "completed epoch 8\n"
          ],
          "name": "stdout"
        },
        {
          "output_type": "stream",
          "text": [
            "Epoch: 9, training Loss: 175.17, mIoU: 0.57, time: 03:10:06: 100%|██████████| 236/236 [06:47<00:00,  1.73s/it]\n",
            "  0%|          | 0/236 [00:00<?, ?it/s]"
          ],
          "name": "stderr"
        },
        {
          "output_type": "stream",
          "text": [
            "loss: 266.94091796875 iou: 0.5205633044242859\n",
            "completed epoch 9\n"
          ],
          "name": "stdout"
        },
        {
          "output_type": "stream",
          "text": [
            "Epoch: 10, training Loss: 95.74, mIoU: 0.62, time: 03:16:54: 100%|██████████| 236/236 [06:47<00:00,  1.73s/it]\n",
            "  0%|          | 0/236 [00:00<?, ?it/s]"
          ],
          "name": "stderr"
        },
        {
          "output_type": "stream",
          "text": [
            "loss: 251.35198974609375 iou: 0.5268479585647583\n",
            "completed epoch 10\n"
          ],
          "name": "stdout"
        },
        {
          "output_type": "stream",
          "text": [
            "Epoch: 11, training Loss: 201.54, mIoU: 0.56, time: 03:23:42: 100%|██████████| 236/236 [06:47<00:00,  1.73s/it]\n",
            "  0%|          | 0/236 [00:00<?, ?it/s]"
          ],
          "name": "stderr"
        },
        {
          "output_type": "stream",
          "text": [
            "loss: 253.8924102783203 iou: 0.521859884262085\n",
            "completed epoch 11\n"
          ],
          "name": "stdout"
        },
        {
          "output_type": "stream",
          "text": [
            "Epoch: 12, training Loss: 161.17, mIoU: 0.56, time: 03:30:29: 100%|██████████| 236/236 [06:47<00:00,  1.73s/it]\n",
            "  0%|          | 0/236 [00:00<?, ?it/s]"
          ],
          "name": "stderr"
        },
        {
          "output_type": "stream",
          "text": [
            "loss: 241.49203491210938 iou: 0.5282883048057556\n",
            "completed epoch 12\n"
          ],
          "name": "stdout"
        },
        {
          "output_type": "stream",
          "text": [
            "Epoch: 13, training Loss: 241.35, mIoU: 0.52, time: 03:37:16: 100%|██████████| 236/236 [06:47<00:00,  1.73s/it]\n",
            "  0%|          | 0/236 [00:00<?, ?it/s]"
          ],
          "name": "stderr"
        },
        {
          "output_type": "stream",
          "text": [
            "loss: 233.60043334960938 iou: 0.521378755569458\n",
            "completed epoch 13\n"
          ],
          "name": "stdout"
        },
        {
          "output_type": "stream",
          "text": [
            "Epoch: 14, training Loss: 174.45, mIoU: 0.51, time: 03:44:04: 100%|██████████| 236/236 [06:47<00:00,  1.73s/it]\n",
            "  0%|          | 0/236 [00:00<?, ?it/s]"
          ],
          "name": "stderr"
        },
        {
          "output_type": "stream",
          "text": [
            "loss: 222.92201232910156 iou: 0.5276917219161987\n",
            "completed epoch 14\n"
          ],
          "name": "stdout"
        },
        {
          "output_type": "stream",
          "text": [
            "Epoch: 15, training Loss: 241.09, mIoU: 0.58, time: 03:50:52: 100%|██████████| 236/236 [06:47<00:00,  1.73s/it]\n",
            "  0%|          | 0/236 [00:00<?, ?it/s]"
          ],
          "name": "stderr"
        },
        {
          "output_type": "stream",
          "text": [
            "loss: 222.476806640625 iou: 0.5219267010688782\n",
            "completed epoch 15\n"
          ],
          "name": "stdout"
        },
        {
          "output_type": "stream",
          "text": [
            "Epoch: 16, training Loss: 238.97, mIoU: 0.57, time: 03:57:40: 100%|██████████| 236/236 [06:47<00:00,  1.73s/it]\n",
            "  0%|          | 0/236 [00:00<?, ?it/s]"
          ],
          "name": "stderr"
        },
        {
          "output_type": "stream",
          "text": [
            "loss: 220.7146453857422 iou: 0.5229094624519348\n",
            "completed epoch 16\n"
          ],
          "name": "stdout"
        },
        {
          "output_type": "stream",
          "text": [
            "Epoch: 17, training Loss: 160.14, mIoU: 0.54, time: 04:04:27: 100%|██████████| 236/236 [06:47<00:00,  1.73s/it]\n",
            "  0%|          | 0/236 [00:00<?, ?it/s]"
          ],
          "name": "stderr"
        },
        {
          "output_type": "stream",
          "text": [
            "loss: 220.8262481689453 iou: 0.5204983353614807\n",
            "completed epoch 17\n"
          ],
          "name": "stdout"
        },
        {
          "output_type": "stream",
          "text": [
            "Epoch: 18, training Loss: 285.04, mIoU: 0.52, time: 04:11:15: 100%|██████████| 236/236 [06:47<00:00,  1.73s/it]\n",
            "  0%|          | 0/236 [00:00<?, ?it/s]"
          ],
          "name": "stderr"
        },
        {
          "output_type": "stream",
          "text": [
            "loss: 195.2852783203125 iou: 0.5289689898490906\n",
            "completed epoch 18\n"
          ],
          "name": "stdout"
        },
        {
          "output_type": "stream",
          "text": [
            "Epoch: 19, training Loss: 184.05, mIoU: 0.54, time: 04:18:03: 100%|██████████| 236/236 [06:47<00:00,  1.73s/it]\n",
            "  0%|          | 0/236 [00:00<?, ?it/s]"
          ],
          "name": "stderr"
        },
        {
          "output_type": "stream",
          "text": [
            "loss: 197.6778106689453 iou: 0.5238339900970459\n",
            "completed epoch 19\n"
          ],
          "name": "stdout"
        },
        {
          "output_type": "stream",
          "text": [
            "Epoch: 20, training Loss: 286.69, mIoU: 0.42, time: 04:24:51: 100%|██████████| 236/236 [06:48<00:00,  1.73s/it]\n",
            "  0%|          | 0/236 [00:00<?, ?it/s]"
          ],
          "name": "stderr"
        },
        {
          "output_type": "stream",
          "text": [
            "loss: 198.409423828125 iou: 0.519868016242981\n",
            "completed epoch 20\n"
          ],
          "name": "stdout"
        },
        {
          "output_type": "stream",
          "text": [
            "Epoch: 21, training Loss: 126.86, mIoU: 0.57, time: 04:31:39: 100%|██████████| 236/236 [06:48<00:00,  1.73s/it]\n",
            "  0%|          | 0/236 [00:00<?, ?it/s]"
          ],
          "name": "stderr"
        },
        {
          "output_type": "stream",
          "text": [
            "loss: 190.1998291015625 iou: 0.5201938152313232\n",
            "completed epoch 21\n"
          ],
          "name": "stdout"
        },
        {
          "output_type": "stream",
          "text": [
            "Epoch: 22, training Loss: 167.48, mIoU: 0.55, time: 04:38:27: 100%|██████████| 236/236 [06:48<00:00,  1.73s/it]\n",
            "  0%|          | 0/236 [00:00<?, ?it/s]"
          ],
          "name": "stderr"
        },
        {
          "output_type": "stream",
          "text": [
            "loss: 188.2562255859375 iou: 0.5153958797454834\n",
            "completed epoch 22\n"
          ],
          "name": "stdout"
        },
        {
          "output_type": "stream",
          "text": [
            "Epoch: 23, training Loss: 246.93, mIoU: 0.44, time: 04:45:16: 100%|██████████| 236/236 [06:48<00:00,  1.73s/it]\n",
            "  0%|          | 0/236 [00:00<?, ?it/s]"
          ],
          "name": "stderr"
        },
        {
          "output_type": "stream",
          "text": [
            "loss: 184.14564514160156 iou: 0.5201871395111084\n",
            "completed epoch 23\n"
          ],
          "name": "stdout"
        },
        {
          "output_type": "stream",
          "text": [
            "Epoch: 24, training Loss: 208.41, mIoU: 0.56, time: 04:52:04: 100%|██████████| 236/236 [06:48<00:00,  1.73s/it]\n",
            "  0%|          | 0/236 [00:00<?, ?it/s]"
          ],
          "name": "stderr"
        },
        {
          "output_type": "stream",
          "text": [
            "loss: 173.1836395263672 iou: 0.5246890187263489\n",
            "completed epoch 24\n"
          ],
          "name": "stdout"
        },
        {
          "output_type": "stream",
          "text": [
            "Epoch: 25, training Loss: 169.88, mIoU: 0.50, time: 04:58:52: 100%|██████████| 236/236 [06:48<00:00,  1.73s/it]\n",
            "  0%|          | 0/236 [00:00<?, ?it/s]"
          ],
          "name": "stderr"
        },
        {
          "output_type": "stream",
          "text": [
            "loss: 167.19403076171875 iou: 0.5250276923179626\n",
            "completed epoch 25\n"
          ],
          "name": "stdout"
        },
        {
          "output_type": "stream",
          "text": [
            "Epoch: 26, training Loss: 154.85, mIoU: 0.44, time: 05:05:40: 100%|██████████| 236/236 [06:48<00:00,  1.73s/it]\n",
            "  0%|          | 0/236 [00:00<?, ?it/s]"
          ],
          "name": "stderr"
        },
        {
          "output_type": "stream",
          "text": [
            "loss: 163.1778106689453 iou: 0.521533191204071\n",
            "completed epoch 26\n"
          ],
          "name": "stdout"
        },
        {
          "output_type": "stream",
          "text": [
            "Epoch: 27, training Loss: 104.43, mIoU: 0.56, time: 05:12:28: 100%|██████████| 236/236 [06:48<00:00,  1.73s/it]\n",
            "  0%|          | 0/236 [00:00<?, ?it/s]"
          ],
          "name": "stderr"
        },
        {
          "output_type": "stream",
          "text": [
            "loss: 158.0304718017578 iou: 0.5216836333274841\n",
            "completed epoch 27\n"
          ],
          "name": "stdout"
        },
        {
          "output_type": "stream",
          "text": [
            "Epoch: 28, training Loss: 135.87, mIoU: 0.57, time: 05:19:17: 100%|██████████| 236/236 [06:48<00:00,  1.73s/it]\n",
            "  0%|          | 0/236 [00:00<?, ?it/s]"
          ],
          "name": "stderr"
        },
        {
          "output_type": "stream",
          "text": [
            "loss: 156.75949096679688 iou: 0.5184754729270935\n",
            "completed epoch 28\n"
          ],
          "name": "stdout"
        },
        {
          "output_type": "stream",
          "text": [
            "Epoch: 29, training Loss: 131.31, mIoU: 0.46, time: 05:26:05: 100%|██████████| 236/236 [06:48<00:00,  1.73s/it]\n",
            "  0%|          | 0/236 [00:00<?, ?it/s]"
          ],
          "name": "stderr"
        },
        {
          "output_type": "stream",
          "text": [
            "loss: 146.33267211914062 iou: 0.5267399549484253\n",
            "completed epoch 29\n"
          ],
          "name": "stdout"
        },
        {
          "output_type": "stream",
          "text": [
            "Epoch: 30, training Loss: 120.65, mIoU: 0.52, time: 05:28:05:  29%|██▉       | 68/236 [01:59<04:52,  1.74s/it]"
          ],
          "name": "stderr"
        }
      ]
    },
    {
      "cell_type": "markdown",
      "metadata": {
        "id": "FJg47C1uqsCC"
      },
      "source": [
        "## Validate the train Model"
      ]
    },
    {
      "cell_type": "code",
      "metadata": {
        "id": "EXp5snYTqxLZ",
        "cellView": "form"
      },
      "source": [
        "#@title\n",
        "test(net, val_loader, epoch=0, writer=None)#writer)"
      ],
      "execution_count": null,
      "outputs": []
    },
    {
      "cell_type": "markdown",
      "metadata": {
        "id": "SqSvuusrNOaY"
      },
      "source": [
        "## Experiment with trained model"
      ]
    },
    {
      "cell_type": "code",
      "metadata": {
        "id": "fPQhnuuBrgXe",
        "colab": {
          "base_uri": "https://localhost:8080/",
          "height": 594
        },
        "outputId": "4b95e15b-b890-4489-fedc-4c3d0b1c3cf0"
      },
      "source": [
        "#@title\n",
        "test_samples = ['pizza','eagle','ferrari911','american_alligator','bat']\n",
        "new_dataloader = get_dataloader(algo,'test',test_samples=test_samples)\n",
        "for idx,batch in enumerate(new_dataloader):\n",
        "    (spt_x, spt_y), (qry_x, qry_y ) = split_batch(batch, algo, 'test')\n",
        "    spt_x, spt_y = spt_x.view(-1, *spt_x.shape[3:]).cuda(), spt_y.view(\n",
        "        -1, *spt_y.shape[3:]).cuda()\n",
        "    qry_x, qry_y = qry_x.view(-1, *qry_x.shape[3:]).cuda(), qry_y.view(\n",
        "        -1, *qry_y.shape[3:]).cuda()\n",
        "    \n",
        "    if idx==0:\n",
        "        break\n",
        "\n",
        "out_dict = {}\n",
        "algos = ['meta-sgd','maml','reptile','fomaml']\n",
        "algos=['reptile']\n",
        "for algo in algos:\n",
        "    # # get model\n",
        "    # if False:\n",
        "    #     net = MetaDRN(algo=algo)\n",
        "    #     if algo == 'meta-sgd':\n",
        "    #         net.define_task_lr_params()\n",
        "    # else:\n",
        "    #     net = torch.load(\"/content/drive/MyDrive/Colab Notebooks/models/meta_drn_\"+\n",
        "    #                      algo+\"_9.pt\")\n",
        "    # net.train()\n",
        "    # net.cuda()\n",
        "    optimizers = get_optimizers(net, algo)\n",
        "    learner_optim = optimizers['learner_optimizer']\n",
        "    meta_optim = optimizers['meta_optimizer']\n",
        "    if algo in ['maml', 'fomaml', 'meta-sgd']:\n",
        "        with higher.innerloop_ctx(net, learner_optim, \n",
        "                                    copy_initial_weights=True, \n",
        "                                    track_higher_grads=False) as (fnet, diffoptim):\n",
        "            for i in range(train_config[algo]['train_steps']):\n",
        "                pred = fnet(spt_x)\n",
        "                loss = F.cross_entropy(pred, spt_y.squeeze().long())\n",
        "                if i==0 and algo == 'meta-sgd':\n",
        "                    diffoptim.store_task_lr(list(net.task_lr.values()))\n",
        "                diffoptim.step(loss)\n",
        "            with torch.no_grad():\n",
        "                qry_logits = fnet(qry_x)\n",
        "                out_y = torch.argmax(qry_logits, dim=1, keepdim=True)\n",
        "                out_dict[algo]=(qry_x.clone(), out_y.clone())\n",
        "                    \n",
        "    elif algo == 'reptile':\n",
        "        weights_before = deepcopy(net.state_dict())\n",
        "        for _ in range(train_config[algo]['train_steps']):\n",
        "                pred = net(spt_x)\n",
        "                loss = F.cross_entropy(pred, spt_y.squeeze().long())\n",
        "                net.zero_grad()\n",
        "                loss.backward()\n",
        "                learner_optim.step()\n",
        "        \n",
        "        with torch.no_grad():\n",
        "            qry_logits = net(qry_x)\n",
        "            out_y = torch.argmax(qry_logits, dim=1, keepdim=True)\n",
        "            out_dict[algo]=(qry_x.clone(), out_y.clone())\n",
        "        net.load_state_dict(weights_before)\n",
        "\n",
        "get_matplotFig_with_out_dict(spt_x.clone(), spt_y.clone(), out_dict)\n",
        "del new_dataloader"
      ],
      "execution_count": null,
      "outputs": [
        {
          "output_type": "display_data",
          "data": {
            "image/png": "[encoded data removed]",
            "text/plain": [
              "<Figure size 288x720 with 10 Axes>"
            ]
          },
          "metadata": {
            "tags": []
          }
        }
      ]
    },
    {
      "cell_type": "code",
      "metadata": {
        "id": "917vGBsjv0Qr",
        "colab": {
          "base_uri": "https://localhost:8080/"
        },
        "cellView": "form",
        "outputId": "4b728fe5-315c-4f6d-fed0-90fdabd5afe6"
      },
      "source": [
        "#@title\n",
        "# from google.colab import drive\n",
        "# drive.mount('/content/drive')"
      ],
      "execution_count": null,
      "outputs": [
        {
          "output_type": "stream",
          "text": [
            "Mounted at /content/drive\n"
          ],
          "name": "stdout"
        }
      ]
    },
    {
      "cell_type": "code",
      "metadata": {
        "id": "KZwt47FiB8IA"
      },
      "source": [
        ""
      ],
      "execution_count": null,
      "outputs": []
    },
    {
      "cell_type": "code",
      "metadata": {
        "id": "4aENeTxSCExs"
      },
      "source": [
        ""
      ],
      "execution_count": null,
      "outputs": []
    }
  ]
}